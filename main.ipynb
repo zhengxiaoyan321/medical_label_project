{
 "cells": [
  {
   "cell_type": "markdown",
   "metadata": {},
   "source": [
    "# Medical Label Project"
   ]
  },
  {
   "cell_type": "markdown",
   "metadata": {},
   "source": [
    "## Setting up"
   ]
  },
  {
   "cell_type": "markdown",
   "metadata": {},
   "source": [
    "Import necessary packages and adjust settings."
   ]
  },
  {
   "cell_type": "code",
   "execution_count": 374,
   "metadata": {},
   "outputs": [],
   "source": [
    "import pandas as pd\n",
    "import numpy as np\n",
    "import matplotlib.pyplot as plt\n",
    "from scipy import stats\n",
    "pd.set_option('display.max_columns', None)\n",
    "pd.set_option('max_colwidth', None)\n",
    "pd.options.mode.chained_assignment = None  # default='warn'"
   ]
  },
  {
   "cell_type": "markdown",
   "metadata": {},
   "source": [
    "Read data from csv files."
   ]
  },
  {
   "cell_type": "code",
   "execution_count": 287,
   "metadata": {},
   "outputs": [],
   "source": [
    "reads = pd.read_csv('data/1345_admin_reads.csv')\n",
    "results = pd.read_csv('data/1345_customer_results.csv',index_col=\"Case ID\")"
   ]
  },
  {
   "cell_type": "markdown",
   "metadata": {},
   "source": [
    "Throw out all rows which do not end with voteN for N=0-8 in the \"Origin\" column of the results dataframe, and extract N from the column for the remaining data.\\\n",
    "N is the number of experts who voted 'yes'."
   ]
  },
  {
   "cell_type": "code",
   "execution_count": 288,
   "metadata": {},
   "outputs": [],
   "source": [
    "valid_vote = results[\"Origin\"].str.fullmatch(r'(.*)vote[0-8](.*)', case=False)\n",
    "valid_results = results.loc[valid_vote]\n",
    "votes = valid_results[\"Origin\"].str.extract(r'vote(\\d)').astype(int)"
   ]
  },
  {
   "cell_type": "markdown",
   "metadata": {},
   "source": [
    "Throw out unnecessary columns. Create a new row called \"Votes\" to store the number of votes extracted from the \"Origin\"."
   ]
  },
  {
   "cell_type": "code",
   "execution_count": 289,
   "metadata": {},
   "outputs": [
    {
     "data": {
      "text/html": [
       "<div>\n",
       "<style scoped>\n",
       "    .dataframe tbody tr th:only-of-type {\n",
       "        vertical-align: middle;\n",
       "    }\n",
       "\n",
       "    .dataframe tbody tr th {\n",
       "        vertical-align: top;\n",
       "    }\n",
       "\n",
       "    .dataframe thead th {\n",
       "        text-align: right;\n",
       "    }\n",
       "</style>\n",
       "<table border=\"1\" class=\"dataframe\">\n",
       "  <thead>\n",
       "    <tr style=\"text-align: right;\">\n",
       "      <th></th>\n",
       "      <th>problem_id</th>\n",
       "      <th>accuracy</th>\n",
       "      <th>chosen_answer</th>\n",
       "    </tr>\n",
       "  </thead>\n",
       "  <tbody>\n",
       "    <tr>\n",
       "      <th>0</th>\n",
       "      <td>5888087</td>\n",
       "      <td>0.78</td>\n",
       "      <td>'no'</td>\n",
       "    </tr>\n",
       "    <tr>\n",
       "      <th>1</th>\n",
       "      <td>5888087</td>\n",
       "      <td>0.76</td>\n",
       "      <td>'no'</td>\n",
       "    </tr>\n",
       "    <tr>\n",
       "      <th>2</th>\n",
       "      <td>5888088</td>\n",
       "      <td>0.78</td>\n",
       "      <td>'no'</td>\n",
       "    </tr>\n",
       "    <tr>\n",
       "      <th>3</th>\n",
       "      <td>5888088</td>\n",
       "      <td>0.80</td>\n",
       "      <td>'no'</td>\n",
       "    </tr>\n",
       "    <tr>\n",
       "      <th>4</th>\n",
       "      <td>5888088</td>\n",
       "      <td>0.76</td>\n",
       "      <td>'no'</td>\n",
       "    </tr>\n",
       "    <tr>\n",
       "      <th>...</th>\n",
       "      <td>...</td>\n",
       "      <td>...</td>\n",
       "      <td>...</td>\n",
       "    </tr>\n",
       "    <tr>\n",
       "      <th>152055</th>\n",
       "      <td>5918379</td>\n",
       "      <td>0.82</td>\n",
       "      <td>'yes'</td>\n",
       "    </tr>\n",
       "    <tr>\n",
       "      <th>152056</th>\n",
       "      <td>5918379</td>\n",
       "      <td>0.78</td>\n",
       "      <td>'yes'</td>\n",
       "    </tr>\n",
       "    <tr>\n",
       "      <th>152057</th>\n",
       "      <td>5918379</td>\n",
       "      <td>0.84</td>\n",
       "      <td>'yes'</td>\n",
       "    </tr>\n",
       "    <tr>\n",
       "      <th>152058</th>\n",
       "      <td>5918379</td>\n",
       "      <td>0.76</td>\n",
       "      <td>'yes'</td>\n",
       "    </tr>\n",
       "    <tr>\n",
       "      <th>152059</th>\n",
       "      <td>5918379</td>\n",
       "      <td>0.76</td>\n",
       "      <td>'no'</td>\n",
       "    </tr>\n",
       "  </tbody>\n",
       "</table>\n",
       "<p>152060 rows × 3 columns</p>\n",
       "</div>"
      ],
      "text/plain": [
       "        problem_id  accuracy chosen_answer\n",
       "0          5888087      0.78          'no'\n",
       "1          5888087      0.76          'no'\n",
       "2          5888088      0.78          'no'\n",
       "3          5888088      0.80          'no'\n",
       "4          5888088      0.76          'no'\n",
       "...            ...       ...           ...\n",
       "152055     5918379      0.82         'yes'\n",
       "152056     5918379      0.78         'yes'\n",
       "152057     5918379      0.84         'yes'\n",
       "152058     5918379      0.76         'yes'\n",
       "152059     5918379      0.76          'no'\n",
       "\n",
       "[152060 rows x 3 columns]"
      ]
     },
     "execution_count": 289,
     "metadata": {},
     "output_type": "execute_result"
    }
   ],
   "source": [
    "reads=reads.loc[:,[\"problem_id\", \"accuracy\",\"chosen_answer\"]]\n",
    "reads[\"chosen_answer\"]=reads[\"chosen_answer\"].str.extract(r'\\[(.*)\\]')\n",
    "valid_results = valid_results.loc[:,\"Qualified Reads\":\"Second Choice Weight\"]\n",
    "valid_results[\"Votes\"] = votes\n",
    "reads"
   ]
  },
  {
   "cell_type": "markdown",
   "metadata": {},
   "source": [
    "## Remarks on \"Correct Label\""
   ]
  },
  {
   "cell_type": "markdown",
   "metadata": {},
   "source": [
    "By interpreting number of votes<4 as having a correct label of 'no', number of votes>4 as having a correct label of 'yes', and having no correct label otherwise, this column completely agrees with the \"Correct Label\" column."
   ]
  },
  {
   "cell_type": "code",
   "execution_count": 290,
   "metadata": {},
   "outputs": [
    {
     "name": "stdout",
     "output_type": "stream",
     "text": [
      "Correct Labels corresponding to < 4 votes: [\"'no'\"]\n",
      "Correct Labels corresponding to > 4 votes: [\"'yes'\"]\n",
      "Correct Labels corresponding to = 4 votes: [nan]\n"
     ]
    }
   ],
   "source": [
    "print(\"Correct Labels corresponding to < 4 votes:\", valid_results.loc[valid_results[\"Votes\"]<4,\"Correct Label\"].unique())\n",
    "print(\"Correct Labels corresponding to > 4 votes:\", valid_results.loc[valid_results[\"Votes\"]>4,\"Correct Label\"].unique())\n",
    "print(\"Correct Labels corresponding to = 4 votes:\", valid_results.loc[valid_results[\"Votes\"]==4,\"Correct Label\"].unique())"
   ]
  },
  {
   "cell_type": "markdown",
   "metadata": {},
   "source": [
    "We also note that out of the 27000 results, 12000 of them have a correct label of 'no', 12000 of them have a correct label of 'yes', and 3000 of them have no correct label."
   ]
  },
  {
   "cell_type": "code",
   "execution_count": 291,
   "metadata": {},
   "outputs": [
    {
     "name": "stdout",
     "output_type": "stream",
     "text": [
      "'no'     12000\n",
      "'yes'    12000\n",
      "NaN       3000\n",
      "Name: Correct Label, dtype: int64\n"
     ]
    }
   ],
   "source": [
    "print(valid_results[\"Correct Label\"].value_counts(dropna=False))"
   ]
  },
  {
   "cell_type": "markdown",
   "metadata": {},
   "source": [
    "## Remark on \"Majority Label\""
   ]
  },
  {
   "cell_type": "markdown",
   "metadata": {},
   "source": [
    "Out of the 27000 results, 14547 of them have a majority label of 'no', 12211 of them have a majority label of 'yes', and 242 of them have no majority label."
   ]
  },
  {
   "cell_type": "code",
   "execution_count": 292,
   "metadata": {},
   "outputs": [
    {
     "name": "stdout",
     "output_type": "stream",
     "text": [
      "'yes'    14547\n",
      "'no'     12211\n",
      "NaN        242\n",
      "Name: Majority Label, dtype: int64\n"
     ]
    }
   ],
   "source": [
    "print(valid_results[\"Majority Label\"].value_counts(dropna=False))"
   ]
  },
  {
   "cell_type": "markdown",
   "metadata": {},
   "source": [
    "The reason that 242 of them have no majority labels is that all of them have no qualified reads."
   ]
  },
  {
   "cell_type": "code",
   "execution_count": 293,
   "metadata": {},
   "outputs": [
    {
     "name": "stdout",
     "output_type": "stream",
     "text": [
      "0    242\n",
      "Name: Qualified Reads, dtype: int64\n"
     ]
    }
   ],
   "source": [
    "print(valid_results.loc[valid_results[\"Majority Label\"].isna(),\"Qualified Reads\"].value_counts())"
   ]
  },
  {
   "cell_type": "markdown",
   "metadata": {},
   "source": [
    "Of the results with at least one qualified reads, 1580 of them have an equal number of yes/no votes. In these cases, the majority label is determined by the sum of accuracy score of qualified reads for each choice answer."
   ]
  },
  {
   "cell_type": "code",
   "execution_count": 294,
   "metadata": {},
   "outputs": [
    {
     "name": "stdout",
     "output_type": "stream",
     "text": [
      "'no'     764\n",
      "'yes'    744\n",
      "Name: Majority Label, dtype: int64\n"
     ]
    }
   ],
   "source": [
    "print(valid_results.loc[(valid_results[\"First Choice Votes\"]==valid_results[\"Second Choice Votes\"])&(valid_results[\"Qualified Reads\"]!=0),\"Majority Label\"].value_counts(dropna=False))"
   ]
  },
  {
   "cell_type": "markdown",
   "metadata": {},
   "source": [
    "## Analysis"
   ]
  },
  {
   "cell_type": "markdown",
   "metadata": {},
   "source": [
    "We first count the number of expert who agrees with expert majority and the total number of expert votes.\\\n",
    "The since each result have 8 expert votes, the total number is simply calculated by 8 times the number of results.\\\n",
    "The problem is that as we've seen earlier, some results have no expert majority because equal number of experts voted on yes vs no, so we need to decide whether to include these results. I'd like to argue that since there have to be a correct label (though we don't know which), we can say that 50% of the experts got the correct answer in these cases, so the result can be included.\\\n",
    "Then the number is calculated by summing over the number of votes on the majority label."
   ]
  },
  {
   "cell_type": "code",
   "execution_count": 295,
   "metadata": {},
   "outputs": [
    {
     "data": {
      "text/plain": [
       "0.7777777777777778"
      ]
     },
     "execution_count": 295,
     "metadata": {},
     "output_type": "execute_result"
    }
   ],
   "source": [
    "num_expert_agree = (np.max((valid_results[\"Votes\"],8-valid_results[\"Votes\"]),axis=0)).sum()\n",
    "total_expert_votes = len(valid_results.index) * 8\n",
    "num_expert_agree/total_expert_votes"
   ]
  },
  {
   "cell_type": "markdown",
   "metadata": {},
   "source": [
    "Then we do the same for the crowd votes.\\\n",
    "Note that there are some cases where the first choice answer is not the same as majority label since there were an equal number of first choice answers and second choice answers, but we can safely use the number of votes on the first choice answer in our calculation of votes that agreed with the correct label since the votes on the two answers are the same."
   ]
  },
  {
   "cell_type": "code",
   "execution_count": 296,
   "metadata": {},
   "outputs": [],
   "source": [
    "total_crowd_votes = (valid_results[\"Qualified Reads\"]).sum()"
   ]
  },
  {
   "cell_type": "markdown",
   "metadata": {},
   "source": [
    "# Descriptive Analysis\n",
    "We will try to prove that the crowd agree with the expert majority more often than experts agreeing with the expert majority."
   ]
  },
  {
   "cell_type": "markdown",
   "metadata": {},
   "source": [
    "In the following table, we calculated the median agreement rate of the crowd among themselves and with the experts, grouped by the agreement rate among experts. The first column is the agreement rate among crowd, the second is the accuracy of the crowd (rate that the label they gave coincide with expert majority), the last is the agreement among experts. We can see that in all cases, the agreement rate among crowd is at least as high as the agreement rate among experts, and of the cases where a correct label has been determined by the expert majority, 7 out of 8 times the crowd accuracy is higher than accuracy of experts."
   ]
  },
  {
   "cell_type": "code",
   "execution_count": 362,
   "metadata": {},
   "outputs": [
    {
     "data": {
      "text/html": [
       "<div>\n",
       "<style scoped>\n",
       "    .dataframe tbody tr th:only-of-type {\n",
       "        vertical-align: middle;\n",
       "    }\n",
       "\n",
       "    .dataframe tbody tr th {\n",
       "        vertical-align: top;\n",
       "    }\n",
       "\n",
       "    .dataframe thead th {\n",
       "        text-align: right;\n",
       "    }\n",
       "</style>\n",
       "<table border=\"1\" class=\"dataframe\">\n",
       "  <thead>\n",
       "    <tr style=\"text-align: right;\">\n",
       "      <th></th>\n",
       "      <th>Crowd Agreement</th>\n",
       "      <th>Crowd Accuracy</th>\n",
       "      <th>Expert Agreement</th>\n",
       "    </tr>\n",
       "    <tr>\n",
       "      <th>Votes</th>\n",
       "      <th></th>\n",
       "      <th></th>\n",
       "      <th></th>\n",
       "    </tr>\n",
       "  </thead>\n",
       "  <tbody>\n",
       "    <tr>\n",
       "      <th>0</th>\n",
       "      <td>1.000</td>\n",
       "      <td>1.000</td>\n",
       "      <td>1.000</td>\n",
       "    </tr>\n",
       "    <tr>\n",
       "      <th>1</th>\n",
       "      <td>1.000</td>\n",
       "      <td>0.857</td>\n",
       "      <td>0.875</td>\n",
       "    </tr>\n",
       "    <tr>\n",
       "      <th>2</th>\n",
       "      <td>1.000</td>\n",
       "      <td>0.800</td>\n",
       "      <td>0.750</td>\n",
       "    </tr>\n",
       "    <tr>\n",
       "      <th>3</th>\n",
       "      <td>1.000</td>\n",
       "      <td>0.667</td>\n",
       "      <td>0.625</td>\n",
       "    </tr>\n",
       "    <tr>\n",
       "      <th>4</th>\n",
       "      <td>0.857</td>\n",
       "      <td>NaN</td>\n",
       "      <td>0.500</td>\n",
       "    </tr>\n",
       "    <tr>\n",
       "      <th>5</th>\n",
       "      <td>1.000</td>\n",
       "      <td>0.778</td>\n",
       "      <td>0.625</td>\n",
       "    </tr>\n",
       "    <tr>\n",
       "      <th>6</th>\n",
       "      <td>1.000</td>\n",
       "      <td>1.000</td>\n",
       "      <td>0.750</td>\n",
       "    </tr>\n",
       "    <tr>\n",
       "      <th>7</th>\n",
       "      <td>1.000</td>\n",
       "      <td>1.000</td>\n",
       "      <td>0.875</td>\n",
       "    </tr>\n",
       "    <tr>\n",
       "      <th>8</th>\n",
       "      <td>1.000</td>\n",
       "      <td>1.000</td>\n",
       "      <td>1.000</td>\n",
       "    </tr>\n",
       "  </tbody>\n",
       "</table>\n",
       "</div>"
      ],
      "text/plain": [
       "       Crowd Agreement  Crowd Accuracy  Expert Agreement\n",
       "Votes                                                   \n",
       "0                1.000           1.000             1.000\n",
       "1                1.000           0.857             0.875\n",
       "2                1.000           0.800             0.750\n",
       "3                1.000           0.667             0.625\n",
       "4                0.857             NaN             0.500\n",
       "5                1.000           0.778             0.625\n",
       "6                1.000           1.000             0.750\n",
       "7                1.000           1.000             0.875\n",
       "8                1.000           1.000             1.000"
      ]
     },
     "execution_count": 362,
     "metadata": {},
     "output_type": "execute_result"
    }
   ],
   "source": [
    "agreement_df = valid_results.groupby(\"Votes\")[[\"Agreement\", \"Difficulty\"]].median()\n",
    "agreement_df[\"Difficulty\"] = 1-agreement_df[\"Difficulty\"]\n",
    "expert_agreement=np.max([1-np.arange(0,1.01,1/8), np.arange(0,1.01,1/8)],axis=0)\n",
    "agreement_df[\"Expert Agreement\"] = expert_agreement\n",
    "agreement_df.rename(columns={\"Difficulty\":\"Crowd Accuracy\",\"Agreement\":\"Crowd Agreement\"},inplace=True)\n",
    "agreement_df"
   ]
  },
  {
   "cell_type": "markdown",
   "metadata": {},
   "source": [
    "The plot below provides a visualization of the previous table. As we can see in the plot, the blue bars and orange bars are usually higher than the green bars, meaning that the agreement and accuracy of the crowd is higher than the agreement among experts."
   ]
  },
  {
   "cell_type": "code",
   "execution_count": 373,
   "metadata": {},
   "outputs": [
    {
     "data": {
      "text/plain": [
       "<matplotlib.legend.Legend at 0x20508b7c160>"
      ]
     },
     "execution_count": 373,
     "metadata": {},
     "output_type": "execute_result"
    },
    {
     "data": {
      "image/png": "[encoded data removed]",
      "text/plain": [
       "<Figure size 640x480 with 1 Axes>"
      ]
     },
     "metadata": {},
     "output_type": "display_data"
    }
   ],
   "source": [
    "fig = plt.figure()\n",
    "ax = fig.add_subplot(111)\n",
    "w=1/4\n",
    "ax.bar(agreement_df.index-3/2*w,agreement_df[\"Crowd Agreement\"],w,align='edge',label=\"Crowd Agreement\")\n",
    "ax.bar(agreement_df.index-w/2,agreement_df[\"Crowd Accuracy\"],w,align='edge',label=\"Crowd Accuracy\")\n",
    "ax.bar(agreement_df.index+w/2,agreement_df[\"Expert Agreement\"],w,align='edge',label=\"Expert Agreement\")\n",
    "plt.xlabel(\"Expert Votes\")\n",
    "plt.ylabel(\"Agreement\")\n",
    "plt.legend()"
   ]
  },
  {
   "cell_type": "markdown",
   "metadata": {},
   "source": [
    "The next table shows the percentage of cases of which the crowd accuracy rate is at least as high as the experts. This percentage is 0 for cases where expert agreement is 0.5 because since there's no \"correct label\" given, we do not have the crowd accuracy rate. For the rest of cases, we can see that when expert agreement rate is 0.625, the crowd had an equal or higher accuracy rate on **57%** of the cases; when expert agreement rate is 0.75, the crowd had an equal or higher accuracy rate on **62%** of the cases; when expert agreement rate is 0.875, the crowd had an equal or higher accuracy rate on **56%** of the cases; when experts are unanimous, the crowd had an equal or higher accuracy rate on **72%** of the cases. From these data, we can conclude that the crowd usually agrees with expert majorities more than experts do. "
   ]
  },
  {
   "cell_type": "code",
   "execution_count": 434,
   "metadata": {},
   "outputs": [
    {
     "data": {
      "text/html": [
       "<div>\n",
       "<style scoped>\n",
       "    .dataframe tbody tr th:only-of-type {\n",
       "        vertical-align: middle;\n",
       "    }\n",
       "\n",
       "    .dataframe tbody tr th {\n",
       "        vertical-align: top;\n",
       "    }\n",
       "\n",
       "    .dataframe thead th {\n",
       "        text-align: right;\n",
       "    }\n",
       "</style>\n",
       "<table border=\"1\" class=\"dataframe\">\n",
       "  <thead>\n",
       "    <tr style=\"text-align: right;\">\n",
       "      <th></th>\n",
       "      <th>percentage</th>\n",
       "    </tr>\n",
       "    <tr>\n",
       "      <th>Expert Agreement</th>\n",
       "      <th></th>\n",
       "    </tr>\n",
       "  </thead>\n",
       "  <tbody>\n",
       "    <tr>\n",
       "      <th>0.500</th>\n",
       "      <td>0.000000</td>\n",
       "    </tr>\n",
       "    <tr>\n",
       "      <th>0.625</th>\n",
       "      <td>0.572000</td>\n",
       "    </tr>\n",
       "    <tr>\n",
       "      <th>0.750</th>\n",
       "      <td>0.622167</td>\n",
       "    </tr>\n",
       "    <tr>\n",
       "      <th>0.875</th>\n",
       "      <td>0.564167</td>\n",
       "    </tr>\n",
       "    <tr>\n",
       "      <th>1.000</th>\n",
       "      <td>0.718500</td>\n",
       "    </tr>\n",
       "  </tbody>\n",
       "</table>\n",
       "</div>"
      ],
      "text/plain": [
       "                  percentage\n",
       "Expert Agreement            \n",
       "0.500               0.000000\n",
       "0.625               0.572000\n",
       "0.750               0.622167\n",
       "0.875               0.564167\n",
       "1.000               0.718500"
      ]
     },
     "execution_count": 434,
     "metadata": {},
     "output_type": "execute_result"
    }
   ],
   "source": [
    "df=pd.DataFrame()\n",
    "df[\"percentage\"]=(1-valid_results[\"Difficulty\"])>=np.max([valid_results[\"Votes\"],8-valid_results[\"Votes\"]],axis=0)/8\n",
    "df[\"Expert Agreement\"]=np.max([valid_results[\"Votes\"],8-valid_results[\"Votes\"]],axis=0)/8\n",
    "df.groupby([\"Expert Agreement\"]).mean()"
   ]
  },
  {
   "cell_type": "markdown",
   "metadata": {},
   "source": [
    "Below is the t-test on whether the mean of crowd accuracy is higher than the experts' accuracy. This result is significant only for cases where number of expert votes is 5 or 6."
   ]
  },
  {
   "cell_type": "code",
   "execution_count": 441,
   "metadata": {},
   "outputs": [
    {
     "data": {
      "text/plain": [
       "array([False, False, False, False, False,  True,  True, False, False])"
      ]
     },
     "execution_count": 441,
     "metadata": {},
     "output_type": "execute_result"
    }
   ],
   "source": [
    "d = [1-valid_results.loc[valid_results[\"Votes\"]==i,\"Difficulty\"] for i in range(9)]\n",
    "res = stats.ttest_1samp(d,popmean=expert_agreement,axis=1,nan_policy=\"omit\",alternative=\"greater\")\n",
    "res.pvalue.data < 0.01"
   ]
  },
  {
   "cell_type": "code",
   "execution_count": 442,
   "metadata": {},
   "outputs": [
    {
     "data": {
      "text/plain": [
       "Ttest_1sampResult(statistic=103.47184760240071, pvalue=0.0)"
      ]
     },
     "execution_count": 442,
     "metadata": {},
     "output_type": "execute_result"
    }
   ],
   "source": [
    "stats.ttest_1samp(valid_results[\"Agreement\"],popmean=np.mean(expert_agreement),nan_policy=\"omit\",alternative=\"greater\")"
   ]
  },
  {
   "cell_type": "markdown",
   "metadata": {},
   "source": [
    "Below is the t-test on whether the mean of crowd agreement rate among themselves is higher than the experts. This result is significant for cases where number of expert votes is between 2 and 7."
   ]
  },
  {
   "cell_type": "code",
   "execution_count": 440,
   "metadata": {},
   "outputs": [
    {
     "data": {
      "text/plain": [
       "array([False, False,  True,  True,  True,  True,  True,  True, False])"
      ]
     },
     "execution_count": 440,
     "metadata": {},
     "output_type": "execute_result"
    }
   ],
   "source": [
    "d = [valid_results.loc[valid_results[\"Votes\"]==i,\"Agreement\"] for i in range(9)]\n",
    "res = stats.ttest_1samp(d,popmean=expert_agreement,axis=1,nan_policy=\"omit\",alternative=\"greater\")\n",
    "res.pvalue.data < 0.01"
   ]
  }
 ],
 "metadata": {
  "kernelspec": {
   "display_name": "Python 3.10.7 64-bit (microsoft store)",
   "language": "python",
   "name": "python3"
  },
  "language_info": {
   "codemirror_mode": {
    "name": "ipython",
    "version": 3
   },
   "file_extension": ".py",
   "mimetype": "text/x-python",
   "name": "python",
   "nbconvert_exporter": "python",
   "pygments_lexer": "ipython3",
   "version": "3.10.8"
  },
  "orig_nbformat": 4,
  "vscode": {
   "interpreter": {
    "hash": "c5038320e2c403f05b08e16129d64a7c27a35a79ea6e4807f3ca30ee12c4b1b2"
   }
  }
 },
 "nbformat": 4,
 "nbformat_minor": 2
}
