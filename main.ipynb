{
 "cells": [
  {
   "cell_type": "markdown",
   "metadata": {},
   "source": [
    "# Medical Label Project"
   ]
  },
  {
   "cell_type": "markdown",
   "metadata": {},
   "source": [
    "## Setting up"
   ]
  },
  {
   "cell_type": "markdown",
   "metadata": {},
   "source": [
    "Import necessary packages and adjust settings."
   ]
  },
  {
   "cell_type": "code",
   "execution_count": 1,
   "metadata": {},
   "outputs": [],
   "source": [
    "import pandas as pd\n",
    "import numpy as np\n",
    "import matplotlib.pyplot as plt\n",
    "from scipy import stats\n",
    "pd.set_option('display.max_columns', None)\n",
    "pd.set_option('max_colwidth', None)\n",
    "pd.options.mode.chained_assignment = None  # default='warn'"
   ]
  },
  {
   "cell_type": "markdown",
   "metadata": {},
   "source": [
    "Read data from csv files."
   ]
  },
  {
   "cell_type": "code",
   "execution_count": 2,
   "metadata": {},
   "outputs": [],
   "source": [
    "reads = pd.read_csv('data/1345_admin_reads.csv')\n",
    "results = pd.read_csv('data/1345_customer_results.csv',index_col=\"Case ID\")"
   ]
  },
  {
   "cell_type": "markdown",
   "metadata": {},
   "source": [
    "Throw out all rows which do not end with voteN for N=0-8 in the \"Origin\" column of the results dataframe, and extract N from the column for the remaining data.\\\n",
    "N is the number of experts who voted 'yes'."
   ]
  },
  {
   "cell_type": "code",
   "execution_count": 3,
   "metadata": {},
   "outputs": [],
   "source": [
    "valid_vote = results[\"Origin\"].str.fullmatch(r'(.*)vote[0-8](.*)', case=False)\n",
    "valid_results = results.loc[valid_vote]\n",
    "votes = valid_results[\"Origin\"].str.extract(r'vote(\\d)').astype(int)"
   ]
  },
  {
   "cell_type": "markdown",
   "metadata": {},
   "source": [
    "Throw out unnecessary columns. Create a new row called \"Votes\" to store the number of votes extracted from the \"Origin\"."
   ]
  },
  {
   "cell_type": "code",
   "execution_count": 4,
   "metadata": {},
   "outputs": [],
   "source": [
    "reads=reads.loc[:,[\"problem_id\", \"accuracy\",\"chosen_answer\"]]\n",
    "reads['chosen_answer'].replace([\"['no']\", \"['yes']\"], [-1,1], inplace=True)\n",
    "valid_results = valid_results.loc[:,\"Qualified Reads\":\"Second Choice Weight\"]\n",
    "valid_results[\"Votes\"] = votes"
   ]
  },
  {
   "cell_type": "markdown",
   "metadata": {},
   "source": [
    "## Remarks on \"Correct Label\""
   ]
  },
  {
   "cell_type": "markdown",
   "metadata": {},
   "source": [
    "By interpreting number of votes<4 as having a correct label of 'no', number of votes>4 as having a correct label of 'yes', and having no correct label otherwise, this column completely agrees with the \"Correct Label\" column."
   ]
  },
  {
   "cell_type": "code",
   "execution_count": 5,
   "metadata": {},
   "outputs": [
    {
     "name": "stdout",
     "output_type": "stream",
     "text": [
      "Correct Labels corresponding to < 4 votes: [\"'no'\"]\n",
      "Correct Labels corresponding to > 4 votes: [\"'yes'\"]\n",
      "Correct Labels corresponding to = 4 votes: [nan]\n"
     ]
    }
   ],
   "source": [
    "print(\"Correct Labels corresponding to < 4 votes:\", valid_results.loc[valid_results[\"Votes\"]<4,\"Correct Label\"].unique())\n",
    "print(\"Correct Labels corresponding to > 4 votes:\", valid_results.loc[valid_results[\"Votes\"]>4,\"Correct Label\"].unique())\n",
    "print(\"Correct Labels corresponding to = 4 votes:\", valid_results.loc[valid_results[\"Votes\"]==4,\"Correct Label\"].unique())"
   ]
  },
  {
   "cell_type": "markdown",
   "metadata": {},
   "source": [
    "We also note that out of the 27000 results, 12000 of them have a correct label of 'no', 12000 of them have a correct label of 'yes', and 3000 of them have no correct label."
   ]
  },
  {
   "cell_type": "code",
   "execution_count": 6,
   "metadata": {},
   "outputs": [
    {
     "name": "stdout",
     "output_type": "stream",
     "text": [
      "'no'     12000\n",
      "'yes'    12000\n",
      "NaN       3000\n",
      "Name: Correct Label, dtype: int64\n"
     ]
    }
   ],
   "source": [
    "print(valid_results[\"Correct Label\"].value_counts(dropna=False))"
   ]
  },
  {
   "cell_type": "markdown",
   "metadata": {},
   "source": [
    "## Remark on \"Majority Label\""
   ]
  },
  {
   "cell_type": "markdown",
   "metadata": {},
   "source": [
    "Out of the 27000 results, 14547 of them have a majority label of 'no', 12211 of them have a majority label of 'yes', and 242 of them have no majority label."
   ]
  },
  {
   "cell_type": "code",
   "execution_count": 7,
   "metadata": {},
   "outputs": [
    {
     "name": "stdout",
     "output_type": "stream",
     "text": [
      "'yes'    14547\n",
      "'no'     12211\n",
      "NaN        242\n",
      "Name: Majority Label, dtype: int64\n"
     ]
    }
   ],
   "source": [
    "print(valid_results[\"Majority Label\"].value_counts(dropna=False))"
   ]
  },
  {
   "cell_type": "markdown",
   "metadata": {},
   "source": [
    "The reason that 242 of them have no majority labels is that all of them have no qualified reads."
   ]
  },
  {
   "cell_type": "code",
   "execution_count": 8,
   "metadata": {},
   "outputs": [
    {
     "name": "stdout",
     "output_type": "stream",
     "text": [
      "0    242\n",
      "Name: Qualified Reads, dtype: int64\n"
     ]
    }
   ],
   "source": [
    "print(valid_results.loc[valid_results[\"Majority Label\"].isna(),\"Qualified Reads\"].value_counts())"
   ]
  },
  {
   "cell_type": "markdown",
   "metadata": {},
   "source": [
    "Of the results with at least one qualified reads, 1580 of them have an equal number of yes/no votes. In these cases, the majority label is determined by the sum of accuracy score of qualified reads for each choice answer."
   ]
  },
  {
   "cell_type": "code",
   "execution_count": 9,
   "metadata": {},
   "outputs": [
    {
     "name": "stdout",
     "output_type": "stream",
     "text": [
      "'no'     764\n",
      "'yes'    744\n",
      "Name: Majority Label, dtype: int64\n"
     ]
    }
   ],
   "source": [
    "print(valid_results.loc[(valid_results[\"First Choice Votes\"]==valid_results[\"Second Choice Votes\"])&(valid_results[\"Qualified Reads\"]!=0),\"Majority Label\"].value_counts(dropna=False))"
   ]
  },
  {
   "cell_type": "markdown",
   "metadata": {},
   "source": [
    "# Descriptive Analysis\n",
    "We will try to prove that the crowd agree with the expert majority more often than experts agreeing with the expert majority."
   ]
  },
  {
   "cell_type": "markdown",
   "metadata": {},
   "source": [
    "In the following table, we calculated the median agreement rate of the crowd among themselves and with the experts, grouped by the agreement rate among experts. The first column is the agreement rate among crowd, the second is the accuracy of the crowd (rate that the label they gave coincide with expert majority), the last is the agreement among experts. We can see that in all cases, the agreement rate among crowd is at least as high as the agreement rate among experts, and of the cases where a correct label has been determined by the expert majority, 7 out of 8 times the crowd accuracy is higher than accuracy of experts."
   ]
  },
  {
   "cell_type": "code",
   "execution_count": 10,
   "metadata": {},
   "outputs": [
    {
     "data": {
      "text/html": [
       "<div>\n",
       "<style scoped>\n",
       "    .dataframe tbody tr th:only-of-type {\n",
       "        vertical-align: middle;\n",
       "    }\n",
       "\n",
       "    .dataframe tbody tr th {\n",
       "        vertical-align: top;\n",
       "    }\n",
       "\n",
       "    .dataframe thead th {\n",
       "        text-align: right;\n",
       "    }\n",
       "</style>\n",
       "<table border=\"1\" class=\"dataframe\">\n",
       "  <thead>\n",
       "    <tr style=\"text-align: right;\">\n",
       "      <th></th>\n",
       "      <th>Crowd Agreement</th>\n",
       "      <th>Crowd Accuracy</th>\n",
       "      <th>Expert Agreement</th>\n",
       "    </tr>\n",
       "    <tr>\n",
       "      <th>Votes</th>\n",
       "      <th></th>\n",
       "      <th></th>\n",
       "      <th></th>\n",
       "    </tr>\n",
       "  </thead>\n",
       "  <tbody>\n",
       "    <tr>\n",
       "      <th>0</th>\n",
       "      <td>1.000</td>\n",
       "      <td>1.000</td>\n",
       "      <td>1.000</td>\n",
       "    </tr>\n",
       "    <tr>\n",
       "      <th>1</th>\n",
       "      <td>1.000</td>\n",
       "      <td>0.857</td>\n",
       "      <td>0.875</td>\n",
       "    </tr>\n",
       "    <tr>\n",
       "      <th>2</th>\n",
       "      <td>1.000</td>\n",
       "      <td>0.800</td>\n",
       "      <td>0.750</td>\n",
       "    </tr>\n",
       "    <tr>\n",
       "      <th>3</th>\n",
       "      <td>1.000</td>\n",
       "      <td>0.667</td>\n",
       "      <td>0.625</td>\n",
       "    </tr>\n",
       "    <tr>\n",
       "      <th>4</th>\n",
       "      <td>0.857</td>\n",
       "      <td>NaN</td>\n",
       "      <td>0.500</td>\n",
       "    </tr>\n",
       "    <tr>\n",
       "      <th>5</th>\n",
       "      <td>1.000</td>\n",
       "      <td>0.778</td>\n",
       "      <td>0.625</td>\n",
       "    </tr>\n",
       "    <tr>\n",
       "      <th>6</th>\n",
       "      <td>1.000</td>\n",
       "      <td>1.000</td>\n",
       "      <td>0.750</td>\n",
       "    </tr>\n",
       "    <tr>\n",
       "      <th>7</th>\n",
       "      <td>1.000</td>\n",
       "      <td>1.000</td>\n",
       "      <td>0.875</td>\n",
       "    </tr>\n",
       "    <tr>\n",
       "      <th>8</th>\n",
       "      <td>1.000</td>\n",
       "      <td>1.000</td>\n",
       "      <td>1.000</td>\n",
       "    </tr>\n",
       "  </tbody>\n",
       "</table>\n",
       "</div>"
      ],
      "text/plain": [
       "       Crowd Agreement  Crowd Accuracy  Expert Agreement\n",
       "Votes                                                   \n",
       "0                1.000           1.000             1.000\n",
       "1                1.000           0.857             0.875\n",
       "2                1.000           0.800             0.750\n",
       "3                1.000           0.667             0.625\n",
       "4                0.857             NaN             0.500\n",
       "5                1.000           0.778             0.625\n",
       "6                1.000           1.000             0.750\n",
       "7                1.000           1.000             0.875\n",
       "8                1.000           1.000             1.000"
      ]
     },
     "execution_count": 10,
     "metadata": {},
     "output_type": "execute_result"
    }
   ],
   "source": [
    "agreement_df = valid_results.groupby(\"Votes\")[[\"Agreement\", \"Difficulty\"]].median()\n",
    "agreement_df[\"Difficulty\"] = 1-agreement_df[\"Difficulty\"]\n",
    "expert_agreement=np.max([1-np.arange(0,1.01,1/8), np.arange(0,1.01,1/8)],axis=0)\n",
    "agreement_df[\"Expert Agreement\"] = expert_agreement\n",
    "agreement_df.rename(columns={\"Difficulty\":\"Crowd Accuracy\",\"Agreement\":\"Crowd Agreement\"},inplace=True)\n",
    "agreement_df"
   ]
  },
  {
   "cell_type": "markdown",
   "metadata": {},
   "source": [
    "The plot below provides a visualization of the previous table. As we can see in the plot, the blue bars and orange bars are usually higher than the green bars, meaning that the agreement and accuracy of the crowd is higher than the agreement among experts."
   ]
  },
  {
   "cell_type": "code",
   "execution_count": 11,
   "metadata": {},
   "outputs": [
    {
     "data": {
      "text/plain": [
       "<matplotlib.legend.Legend at 0x1c7d2d33640>"
      ]
     },
     "execution_count": 11,
     "metadata": {},
     "output_type": "execute_result"
    },
    {
     "data": {
      "image/png": "[encoded data removed]",
      "text/plain": [
       "<Figure size 640x480 with 1 Axes>"
      ]
     },
     "metadata": {},
     "output_type": "display_data"
    }
   ],
   "source": [
    "fig = plt.figure()\n",
    "ax = fig.add_subplot(111)\n",
    "w=1/4\n",
    "ax.bar(agreement_df.index-3/2*w,agreement_df[\"Crowd Agreement\"],w,align='edge',label=\"Crowd Agreement\")\n",
    "ax.bar(agreement_df.index-w/2,agreement_df[\"Crowd Accuracy\"],w,align='edge',label=\"Crowd Accuracy\")\n",
    "ax.bar(agreement_df.index+w/2,agreement_df[\"Expert Agreement\"],w,align='edge',label=\"Expert Agreement\")\n",
    "plt.xlabel(\"Expert Votes\")\n",
    "plt.ylabel(\"Agreement\")\n",
    "plt.legend()"
   ]
  },
  {
   "cell_type": "markdown",
   "metadata": {},
   "source": [
    "The next table shows the percentage of cases of which the crowd accuracy rate is at least as high as the experts. This percentage is 0 for cases where expert agreement is 0.5 because since there's no \"correct label\" given, we do not have the crowd accuracy rate. For the rest of cases, we can see that when expert agreement rate is 0.625, the crowd had an equal or higher accuracy rate on **57%** of the cases; when expert agreement rate is 0.75, the crowd had an equal or higher accuracy rate on **62%** of the cases; when expert agreement rate is 0.875, the crowd had an equal or higher accuracy rate on **56%** of the cases; when experts are unanimous, the crowd had an equal or higher accuracy rate on **72%** of the cases. From these data, we can conclude that the crowd usually agrees with expert majorities more than experts do. "
   ]
  },
  {
   "cell_type": "code",
   "execution_count": 12,
   "metadata": {},
   "outputs": [
    {
     "data": {
      "text/html": [
       "<div>\n",
       "<style scoped>\n",
       "    .dataframe tbody tr th:only-of-type {\n",
       "        vertical-align: middle;\n",
       "    }\n",
       "\n",
       "    .dataframe tbody tr th {\n",
       "        vertical-align: top;\n",
       "    }\n",
       "\n",
       "    .dataframe thead th {\n",
       "        text-align: right;\n",
       "    }\n",
       "</style>\n",
       "<table border=\"1\" class=\"dataframe\">\n",
       "  <thead>\n",
       "    <tr style=\"text-align: right;\">\n",
       "      <th></th>\n",
       "      <th>percentage</th>\n",
       "    </tr>\n",
       "    <tr>\n",
       "      <th>Expert Agreement</th>\n",
       "      <th></th>\n",
       "    </tr>\n",
       "  </thead>\n",
       "  <tbody>\n",
       "    <tr>\n",
       "      <th>0.500</th>\n",
       "      <td>0.000000</td>\n",
       "    </tr>\n",
       "    <tr>\n",
       "      <th>0.625</th>\n",
       "      <td>0.572000</td>\n",
       "    </tr>\n",
       "    <tr>\n",
       "      <th>0.750</th>\n",
       "      <td>0.622167</td>\n",
       "    </tr>\n",
       "    <tr>\n",
       "      <th>0.875</th>\n",
       "      <td>0.564167</td>\n",
       "    </tr>\n",
       "    <tr>\n",
       "      <th>1.000</th>\n",
       "      <td>0.718500</td>\n",
       "    </tr>\n",
       "  </tbody>\n",
       "</table>\n",
       "</div>"
      ],
      "text/plain": [
       "                  percentage\n",
       "Expert Agreement            \n",
       "0.500               0.000000\n",
       "0.625               0.572000\n",
       "0.750               0.622167\n",
       "0.875               0.564167\n",
       "1.000               0.718500"
      ]
     },
     "execution_count": 12,
     "metadata": {},
     "output_type": "execute_result"
    }
   ],
   "source": [
    "df=pd.DataFrame()\n",
    "df[\"percentage\"]=(1-valid_results[\"Difficulty\"])>=np.max([valid_results[\"Votes\"],8-valid_results[\"Votes\"]],axis=0)/8\n",
    "df[\"Expert Agreement\"]=np.max([valid_results[\"Votes\"],8-valid_results[\"Votes\"]],axis=0)/8\n",
    "df.groupby([\"Expert Agreement\"]).mean()"
   ]
  },
  {
   "cell_type": "markdown",
   "metadata": {},
   "source": [
    "Below is the t-test on whether the mean of crowd accuracy is higher than the experts' accuracy. This result is significant only for cases where number of expert votes is 5 or 6."
   ]
  },
  {
   "cell_type": "code",
   "execution_count": 13,
   "metadata": {},
   "outputs": [
    {
     "data": {
      "text/plain": [
       "array([False, False, False, False, False,  True,  True, False, False])"
      ]
     },
     "execution_count": 13,
     "metadata": {},
     "output_type": "execute_result"
    }
   ],
   "source": [
    "d = [1-valid_results.loc[valid_results[\"Votes\"]==i,\"Difficulty\"] for i in range(9)]\n",
    "res = stats.ttest_1samp(d,popmean=expert_agreement,axis=1,nan_policy=\"omit\",alternative=\"greater\")\n",
    "res.pvalue.data < 0.01"
   ]
  },
  {
   "cell_type": "code",
   "execution_count": 14,
   "metadata": {},
   "outputs": [
    {
     "data": {
      "text/plain": [
       "Ttest_1sampResult(statistic=103.47184760240071, pvalue=0.0)"
      ]
     },
     "execution_count": 14,
     "metadata": {},
     "output_type": "execute_result"
    }
   ],
   "source": [
    "stats.ttest_1samp(valid_results[\"Agreement\"],popmean=np.mean(expert_agreement),nan_policy=\"omit\",alternative=\"greater\")"
   ]
  },
  {
   "cell_type": "markdown",
   "metadata": {},
   "source": [
    "Below is the t-test on whether the mean of crowd agreement rate among themselves is higher than the experts. This result is significant for cases where number of expert votes is between 2 and 7."
   ]
  },
  {
   "cell_type": "code",
   "execution_count": 15,
   "metadata": {},
   "outputs": [
    {
     "data": {
      "text/plain": [
       "array([False, False,  True,  True,  True,  True,  True,  True, False])"
      ]
     },
     "execution_count": 15,
     "metadata": {},
     "output_type": "execute_result"
    }
   ],
   "source": [
    "d = [valid_results.loc[valid_results[\"Votes\"]==i,\"Agreement\"] for i in range(9)]\n",
    "res = stats.ttest_1samp(d,popmean=expert_agreement,axis=1,nan_policy=\"omit\",alternative=\"greater\")\n",
    "res.pvalue.data < 0.01"
   ]
  },
  {
   "cell_type": "markdown",
   "metadata": {},
   "source": [
    "# Aggregation Methods"
   ]
  },
  {
   "cell_type": "markdown",
   "metadata": {},
   "source": [
    "In previous analysis, we aggregated the crowd opinion by taking the majority vote. The rates of crowd getting the correct label is shown in the table below.\\\n",
    "In this section, we will try to find other aggregation methods on crowd opinion to get a higher correct rate."
   ]
  },
  {
   "cell_type": "code",
   "execution_count": 16,
   "metadata": {},
   "outputs": [
    {
     "data": {
      "text/html": [
       "<div>\n",
       "<style scoped>\n",
       "    .dataframe tbody tr th:only-of-type {\n",
       "        vertical-align: middle;\n",
       "    }\n",
       "\n",
       "    .dataframe tbody tr th {\n",
       "        vertical-align: top;\n",
       "    }\n",
       "\n",
       "    .dataframe thead th {\n",
       "        text-align: right;\n",
       "    }\n",
       "</style>\n",
       "<table border=\"1\" class=\"dataframe\">\n",
       "  <thead>\n",
       "    <tr style=\"text-align: right;\">\n",
       "      <th></th>\n",
       "      <th>Correct Rate</th>\n",
       "    </tr>\n",
       "    <tr>\n",
       "      <th>Votes</th>\n",
       "      <th></th>\n",
       "    </tr>\n",
       "  </thead>\n",
       "  <tbody>\n",
       "    <tr>\n",
       "      <th>0</th>\n",
       "      <td>0.894240</td>\n",
       "    </tr>\n",
       "    <tr>\n",
       "      <th>1</th>\n",
       "      <td>0.749831</td>\n",
       "    </tr>\n",
       "    <tr>\n",
       "      <th>2</th>\n",
       "      <td>0.699694</td>\n",
       "    </tr>\n",
       "    <tr>\n",
       "      <th>3</th>\n",
       "      <td>0.622584</td>\n",
       "    </tr>\n",
       "    <tr>\n",
       "      <th>5</th>\n",
       "      <td>0.689112</td>\n",
       "    </tr>\n",
       "    <tr>\n",
       "      <th>6</th>\n",
       "      <td>0.813985</td>\n",
       "    </tr>\n",
       "    <tr>\n",
       "      <th>7</th>\n",
       "      <td>0.861585</td>\n",
       "    </tr>\n",
       "    <tr>\n",
       "      <th>8</th>\n",
       "      <td>0.955034</td>\n",
       "    </tr>\n",
       "  </tbody>\n",
       "</table>\n",
       "</div>"
      ],
      "text/plain": [
       "       Correct Rate\n",
       "Votes              \n",
       "0          0.894240\n",
       "1          0.749831\n",
       "2          0.699694\n",
       "3          0.622584\n",
       "5          0.689112\n",
       "6          0.813985\n",
       "7          0.861585\n",
       "8          0.955034"
      ]
     },
     "execution_count": 16,
     "metadata": {},
     "output_type": "execute_result"
    }
   ],
   "source": [
    "selected_cases=valid_results.loc[~valid_results[\"Majority Label\"].isna() & ~valid_results[\"Correct Label\"].isna(),[\"Votes\",\"Correct Label\", \"Majority Label\"]]\n",
    "selected_cases[\"Correct Rate\"]=selected_cases[\"Correct Label\"]==selected_cases[\"Majority Label\"]\n",
    "agg_mode = selected_cases.groupby(\"Votes\")[[\"Correct Rate\"]].mean()\n",
    "agg_mode"
   ]
  },
  {
   "cell_type": "markdown",
   "metadata": {},
   "source": [
    "The first method we try is to weight the crowd labels by the accuracy measure of the labeler. Intuitively, this would mean that if someone has a historically high accuracy rate in labeling images, then when he labels a new image, we would trust his label more than someone who has a low accuracy rate."
   ]
  },
  {
   "cell_type": "code",
   "execution_count": 17,
   "metadata": {},
   "outputs": [],
   "source": [
    "agg_w = reads[[\"problem_id\"]]\n",
    "agg_w[\"Majority Label\"] = reads[\"chosen_answer\"]*reads[\"accuracy\"]\n",
    "results = agg_w.groupby(\"problem_id\").mean()\n",
    "results[\"Majority Label\"] = np.sign(results[\"Majority Label\"])\n",
    "results[\"Majority Label\"].replace([-1,1],[\"'no'\", \"'yes'\"], inplace=True)"
   ]
  },
  {
   "cell_type": "markdown",
   "metadata": {},
   "source": [
    "The percentage of correct labels under this aggregation method is in the table below."
   ]
  },
  {
   "cell_type": "code",
   "execution_count": 18,
   "metadata": {},
   "outputs": [
    {
     "data": {
      "text/html": [
       "<div>\n",
       "<style scoped>\n",
       "    .dataframe tbody tr th:only-of-type {\n",
       "        vertical-align: middle;\n",
       "    }\n",
       "\n",
       "    .dataframe tbody tr th {\n",
       "        vertical-align: top;\n",
       "    }\n",
       "\n",
       "    .dataframe thead th {\n",
       "        text-align: right;\n",
       "    }\n",
       "</style>\n",
       "<table border=\"1\" class=\"dataframe\">\n",
       "  <thead>\n",
       "    <tr style=\"text-align: right;\">\n",
       "      <th></th>\n",
       "      <th>Correct Rate</th>\n",
       "    </tr>\n",
       "    <tr>\n",
       "      <th>Votes</th>\n",
       "      <th></th>\n",
       "    </tr>\n",
       "  </thead>\n",
       "  <tbody>\n",
       "    <tr>\n",
       "      <th>0</th>\n",
       "      <td>0.895588</td>\n",
       "    </tr>\n",
       "    <tr>\n",
       "      <th>1</th>\n",
       "      <td>0.757945</td>\n",
       "    </tr>\n",
       "    <tr>\n",
       "      <th>2</th>\n",
       "      <td>0.704120</td>\n",
       "    </tr>\n",
       "    <tr>\n",
       "      <th>3</th>\n",
       "      <td>0.612750</td>\n",
       "    </tr>\n",
       "    <tr>\n",
       "      <th>5</th>\n",
       "      <td>0.684757</td>\n",
       "    </tr>\n",
       "    <tr>\n",
       "      <th>6</th>\n",
       "      <td>0.815657</td>\n",
       "    </tr>\n",
       "    <tr>\n",
       "      <th>7</th>\n",
       "      <td>0.862253</td>\n",
       "    </tr>\n",
       "    <tr>\n",
       "      <th>8</th>\n",
       "      <td>0.954027</td>\n",
       "    </tr>\n",
       "  </tbody>\n",
       "</table>\n",
       "</div>"
      ],
      "text/plain": [
       "       Correct Rate\n",
       "Votes              \n",
       "0          0.895588\n",
       "1          0.757945\n",
       "2          0.704120\n",
       "3          0.612750\n",
       "5          0.684757\n",
       "6          0.815657\n",
       "7          0.862253\n",
       "8          0.954027"
      ]
     },
     "execution_count": 18,
     "metadata": {},
     "output_type": "execute_result"
    }
   ],
   "source": [
    "agg_w = valid_results[[\"Votes\",\"Correct Label\"]].join(results)\n",
    "agg_w = agg_w.loc[~valid_results[\"Majority Label\"].isna() & ~valid_results[\"Correct Label\"].isna(),[\"Votes\",\"Correct Label\", \"Majority Label\"]]\n",
    "agg_w[\"Correct Rate\"]=agg_w[\"Correct Label\"]==agg_w[\"Majority Label\"]\n",
    "agg_w = agg_w.groupby(\"Votes\")[[\"Correct Rate\"]].mean()\n",
    "agg_w"
   ]
  },
  {
   "cell_type": "markdown",
   "metadata": {},
   "source": [
    "Comparing the result under this new method and result under previous method, we see that there's a slight increase in accuracy rate of the aggregated opinion in most cases. The overall improvement in the accuracy rate is 0.000129."
   ]
  },
  {
   "cell_type": "code",
   "execution_count": 19,
   "metadata": {},
   "outputs": [
    {
     "name": "stdout",
     "output_type": "stream",
     "text": [
      "       Correct Rate\n",
      "Votes              \n",
      "0          0.001347\n",
      "1          0.008114\n",
      "2          0.004426\n",
      "3         -0.009834\n",
      "5         -0.004355\n",
      "6          0.001673\n",
      "7          0.000669\n",
      "8         -0.001007\n"
     ]
    },
    {
     "data": {
      "text/plain": [
       "Correct Rate    0.000129\n",
       "dtype: float64"
      ]
     },
     "execution_count": 19,
     "metadata": {},
     "output_type": "execute_result"
    }
   ],
   "source": [
    "print(agg_w-agg_mode)\n",
    "(agg_w-agg_mode).mean()"
   ]
  },
  {
   "cell_type": "code",
   "execution_count": 20,
   "metadata": {},
   "outputs": [
    {
     "data": {
      "text/plain": [
       "<matplotlib.legend.Legend at 0x1c7d5c01e40>"
      ]
     },
     "execution_count": 20,
     "metadata": {},
     "output_type": "execute_result"
    },
    {
     "data": {
      "image/png": "[encoded data removed]",
      "text/plain": [
       "<Figure size 640x480 with 1 Axes>"
      ]
     },
     "metadata": {},
     "output_type": "display_data"
    }
   ],
   "source": [
    "fig = plt.figure()\n",
    "ax = fig.add_subplot(111)\n",
    "w=1/4\n",
    "ax.bar(agg_mode.index-w,agg_mode[\"Correct Rate\"],w,align='edge',label=\"Aggregate by mode\")\n",
    "ax.bar(agg_w.index,agg_w[\"Correct Rate\"],w,align='edge',label=\"Aggregate by weight\")\n",
    "plt.xlabel(\"Expert Votes\")\n",
    "plt.ylabel(\"Correct Rate\")\n",
    "plt.ylim([.5,1])\n",
    "plt.legend()"
   ]
  },
  {
   "cell_type": "markdown",
   "metadata": {},
   "source": [
    "The next aggregation method we try weights the labels given by labelers by a logistic function as described in the paper **Quality Control of Crowd Labeling through Expert Evaluation**. The new labels given by this aggregation method is shown in the dataframe."
   ]
  },
  {
   "cell_type": "code",
   "execution_count": 21,
   "metadata": {},
   "outputs": [],
   "source": [
    "reads.rename(columns={\"problem_id\":\"Case ID\"},inplace=True)\n",
    "agg_l = reads.join(valid_results[[\"Difficulty\", \"Correct Label\", \"Votes\"]], on=[\"Case ID\"])\n",
    "agg_l[\"Majority Label\"] = 1/(1+np.exp(-agg_l[\"Difficulty\"]*(agg_l[\"accuracy\"]-0.5)*2))\n",
    "agg_l[\"Majority Label\"] = agg_l[\"Majority Label\"]*agg_l[\"chosen_answer\"]\n",
    "results = agg_l.groupby(\"Case ID\")[[\"Majority Label\"]].mean()\n",
    "results[\"Majority Label\"] = np.sign(results[\"Majority Label\"])\n",
    "results[\"Majority Label\"].replace([-1,1],[\"'no'\", \"'yes'\"], inplace=True)"
   ]
  },
  {
   "cell_type": "markdown",
   "metadata": {},
   "source": [
    "The new accuracy rates under this aggregation method are shown in the table below."
   ]
  },
  {
   "cell_type": "code",
   "execution_count": 22,
   "metadata": {},
   "outputs": [
    {
     "data": {
      "text/html": [
       "<div>\n",
       "<style scoped>\n",
       "    .dataframe tbody tr th:only-of-type {\n",
       "        vertical-align: middle;\n",
       "    }\n",
       "\n",
       "    .dataframe tbody tr th {\n",
       "        vertical-align: top;\n",
       "    }\n",
       "\n",
       "    .dataframe thead th {\n",
       "        text-align: right;\n",
       "    }\n",
       "</style>\n",
       "<table border=\"1\" class=\"dataframe\">\n",
       "  <thead>\n",
       "    <tr style=\"text-align: right;\">\n",
       "      <th></th>\n",
       "      <th>Correct Rate</th>\n",
       "    </tr>\n",
       "    <tr>\n",
       "      <th>Votes</th>\n",
       "      <th></th>\n",
       "    </tr>\n",
       "  </thead>\n",
       "  <tbody>\n",
       "    <tr>\n",
       "      <th>0</th>\n",
       "      <td>0.895925</td>\n",
       "    </tr>\n",
       "    <tr>\n",
       "      <th>1</th>\n",
       "      <td>0.758283</td>\n",
       "    </tr>\n",
       "    <tr>\n",
       "      <th>2</th>\n",
       "      <td>0.704460</td>\n",
       "    </tr>\n",
       "    <tr>\n",
       "      <th>3</th>\n",
       "      <td>0.613767</td>\n",
       "    </tr>\n",
       "    <tr>\n",
       "      <th>5</th>\n",
       "      <td>0.685092</td>\n",
       "    </tr>\n",
       "    <tr>\n",
       "      <th>6</th>\n",
       "      <td>0.816661</td>\n",
       "    </tr>\n",
       "    <tr>\n",
       "      <th>7</th>\n",
       "      <td>0.862253</td>\n",
       "    </tr>\n",
       "    <tr>\n",
       "      <th>8</th>\n",
       "      <td>0.954027</td>\n",
       "    </tr>\n",
       "  </tbody>\n",
       "</table>\n",
       "</div>"
      ],
      "text/plain": [
       "       Correct Rate\n",
       "Votes              \n",
       "0          0.895925\n",
       "1          0.758283\n",
       "2          0.704460\n",
       "3          0.613767\n",
       "5          0.685092\n",
       "6          0.816661\n",
       "7          0.862253\n",
       "8          0.954027"
      ]
     },
     "execution_count": 22,
     "metadata": {},
     "output_type": "execute_result"
    }
   ],
   "source": [
    "agg_l = valid_results[[\"Votes\",\"Correct Label\"]].join(results)\n",
    "agg_l = agg_l.loc[~valid_results[\"Majority Label\"].isna() & ~valid_results[\"Correct Label\"].isna(),[\"Votes\",\"Correct Label\", \"Majority Label\"]]\n",
    "agg_l[\"Correct Rate\"]=agg_l[\"Correct Label\"]==agg_l[\"Majority Label\"]\n",
    "agg_l = agg_l.groupby(\"Votes\")[[\"Correct Rate\"]].mean()\n",
    "agg_l"
   ]
  },
  {
   "cell_type": "markdown",
   "metadata": {},
   "source": [
    "By comparing the accuracy rate under this aggregation method and the original aggregation method, we see that the overall accuracy rate improved by 0.000551. This aggregation method gives a slight performance improvement over the previous methods, but the improvement is limited."
   ]
  },
  {
   "cell_type": "code",
   "execution_count": 23,
   "metadata": {},
   "outputs": [
    {
     "name": "stdout",
     "output_type": "stream",
     "text": [
      "       Correct Rate\n",
      "Votes              \n",
      "0          0.001684\n",
      "1          0.008452\n",
      "2          0.004767\n",
      "3         -0.008817\n",
      "5         -0.004020\n",
      "6          0.002676\n",
      "7          0.000669\n",
      "8         -0.001007\n"
     ]
    },
    {
     "data": {
      "text/plain": [
       "Correct Rate    0.000551\n",
       "dtype: float64"
      ]
     },
     "execution_count": 23,
     "metadata": {},
     "output_type": "execute_result"
    }
   ],
   "source": [
    "print(agg_l-agg_mode)\n",
    "(agg_l-agg_mode).mean()"
   ]
  },
  {
   "cell_type": "code",
   "execution_count": 24,
   "metadata": {},
   "outputs": [
    {
     "data": {
      "text/plain": [
       "<matplotlib.legend.Legend at 0x1c7d5c74c10>"
      ]
     },
     "execution_count": 24,
     "metadata": {},
     "output_type": "execute_result"
    },
    {
     "data": {
      "image/png": "[encoded data removed]",
      "text/plain": [
       "<Figure size 640x480 with 1 Axes>"
      ]
     },
     "metadata": {},
     "output_type": "display_data"
    }
   ],
   "source": [
    "fig = plt.figure()\n",
    "ax = fig.add_subplot(111)\n",
    "w=1/4\n",
    "ax.bar(agg_mode.index-1.5*w,agg_mode[\"Correct Rate\"],w,align='edge',label=\"Aggregate by mode\")\n",
    "ax.bar(agg_w.index-0.5*w,agg_w[\"Correct Rate\"],w,align='edge',label=\"Aggregate by weight\")\n",
    "ax.bar(agg_l.index+0.5*w,agg_l[\"Correct Rate\"],w,align='edge',label=\"Aggregate by logistic\")\n",
    "plt.xlabel(\"Expert Votes\")\n",
    "plt.ylabel(\"Correct Rate\")\n",
    "plt.ylim([.5,1])\n",
    "plt.legend()"
   ]
  }
 ],
 "metadata": {
  "kernelspec": {
   "display_name": "Python 3.10.7 64-bit (microsoft store)",
   "language": "python",
   "name": "python3"
  },
  "language_info": {
   "codemirror_mode": {
    "name": "ipython",
    "version": 3
   },
   "file_extension": ".py",
   "mimetype": "text/x-python",
   "name": "python",
   "nbconvert_exporter": "python",
   "pygments_lexer": "ipython3",
   "version": "3.10.8"
  },
  "orig_nbformat": 4,
  "vscode": {
   "interpreter": {
    "hash": "c5038320e2c403f05b08e16129d64a7c27a35a79ea6e4807f3ca30ee12c4b1b2"
   }
  }
 },
 "nbformat": 4,
 "nbformat_minor": 2
}
