{
 "cells": [
  {
   "cell_type": "markdown",
   "metadata": {},
   "source": [
    "# Medical Label Project"
   ]
  },
  {
   "cell_type": "markdown",
   "metadata": {},
   "source": [
    "## Setting up"
   ]
  },
  {
   "cell_type": "markdown",
   "metadata": {},
   "source": [
    "Import necessary packages and adjust settings."
   ]
  },
  {
   "cell_type": "code",
   "execution_count": 1,
   "metadata": {},
   "outputs": [],
   "source": [
    "import pandas as pd\n",
    "import numpy as np\n",
    "import matplotlib.pyplot as plt\n",
    "from scipy import stats\n",
    "pd.set_option('display.max_columns', None)\n",
    "pd.set_option('max_colwidth', None)\n",
    "pd.options.mode.chained_assignment = None\n",
    "props = 'background-color : pink;'"
   ]
  },
  {
   "cell_type": "markdown",
   "metadata": {},
   "source": [
    "Read data from csv files."
   ]
  },
  {
   "cell_type": "code",
   "execution_count": 2,
   "metadata": {},
   "outputs": [],
   "source": [
    "reads = pd.read_csv('data/1345_admin_reads.csv')\n",
    "results = pd.read_csv('data/1345_customer_results.csv',index_col=\"Case ID\")"
   ]
  },
  {
   "cell_type": "markdown",
   "metadata": {},
   "source": [
    "### Select valid records from the files"
   ]
  },
  {
   "cell_type": "markdown",
   "metadata": {},
   "source": [
    "The \"Origin\" column of the result table contains the number of experts who voted on \"yes\" (out of a total of 8 experts). We would like to extract this information to a separate column of the dataframe.\\\n",
    "To this end, we first throw out all rows which do not contain \"voteN\" for N=0-8 in the \"Origin\" column of the results dataframe, and then extract the number N from the column for the remaining data.\\\n",
    "N is the number of experts who voted 'yes'."
   ]
  },
  {
   "cell_type": "code",
   "execution_count": 3,
   "metadata": {},
   "outputs": [],
   "source": [
    "valid_vote = results[\"Origin\"].str.fullmatch(r'(.*)vote[0-8](.*)', case=False)\n",
    "valid_results = results.loc[valid_vote]\n",
    "votes = valid_results[\"Origin\"].str.extract(r'vote(\\d)').astype(int)"
   ]
  },
  {
   "cell_type": "markdown",
   "metadata": {},
   "source": [
    "### Select useful features"
   ]
  },
  {
   "cell_type": "markdown",
   "metadata": {},
   "source": [
    "Then we throw out columns that are unnecessary for our analysis in both the read table and the result table. We also create some new columns that will help with our analysis.\\\n",
    "Create a new column to store the number of votes extracted from the \"Origin\". \\\n",
    "Create a new column to indicate whether the \"Majority Label\" agrees with the \"Correct Label\".\\\n",
    "Create a new column to store the accuracy rate of individual expert votes."
   ]
  },
  {
   "cell_type": "code",
   "execution_count": 4,
   "metadata": {},
   "outputs": [],
   "source": [
    "reads = reads.loc[:,[\"problem_id\", \"user_id\", \"accuracy\",\"chosen_answer\"]]\n",
    "valid_results = valid_results.loc[:,\"Qualified Reads\":\"Second Choice Weight\"]\n",
    "valid_results[\"Votes\"] = votes\n",
    "valid_results[\"Majority Correct\"] = valid_results[\"Majority Label\"] == valid_results[\"Correct Label\"]\n",
    "valid_results[\"Expert Correct\"] = np.max([valid_results[\"Votes\"],8-valid_results[\"Votes\"]],axis=0)/8"
   ]
  },
  {
   "cell_type": "markdown",
   "metadata": {},
   "source": [
    "After clearing and selecting the data, a sample our dataframe looks like the following."
   ]
  },
  {
   "cell_type": "code",
   "execution_count": 5,
   "metadata": {},
   "outputs": [
    {
     "data": {
      "text/html": [
       "<div>\n",
       "<style scoped>\n",
       "    .dataframe tbody tr th:only-of-type {\n",
       "        vertical-align: middle;\n",
       "    }\n",
       "\n",
       "    .dataframe tbody tr th {\n",
       "        vertical-align: top;\n",
       "    }\n",
       "\n",
       "    .dataframe thead th {\n",
       "        text-align: right;\n",
       "    }\n",
       "</style>\n",
       "<table border=\"1\" class=\"dataframe\">\n",
       "  <thead>\n",
       "    <tr style=\"text-align: right;\">\n",
       "      <th></th>\n",
       "      <th>Qualified Reads</th>\n",
       "      <th>Correct Label</th>\n",
       "      <th>Majority Label</th>\n",
       "      <th>Difficulty</th>\n",
       "      <th>Agreement</th>\n",
       "      <th>First Choice Answer</th>\n",
       "      <th>First Choice Votes</th>\n",
       "      <th>First Choice Weight</th>\n",
       "      <th>Second Choice Answer</th>\n",
       "      <th>Second Choice Votes</th>\n",
       "      <th>Second Choice Weight</th>\n",
       "      <th>Votes</th>\n",
       "      <th>Majority Correct</th>\n",
       "      <th>Expert Correct</th>\n",
       "    </tr>\n",
       "    <tr>\n",
       "      <th>Case ID</th>\n",
       "      <th></th>\n",
       "      <th></th>\n",
       "      <th></th>\n",
       "      <th></th>\n",
       "      <th></th>\n",
       "      <th></th>\n",
       "      <th></th>\n",
       "      <th></th>\n",
       "      <th></th>\n",
       "      <th></th>\n",
       "      <th></th>\n",
       "      <th></th>\n",
       "      <th></th>\n",
       "      <th></th>\n",
       "    </tr>\n",
       "  </thead>\n",
       "  <tbody>\n",
       "    <tr>\n",
       "      <th>5893135</th>\n",
       "      <td>5</td>\n",
       "      <td>'no'</td>\n",
       "      <td>'yes'</td>\n",
       "      <td>0.800</td>\n",
       "      <td>0.800</td>\n",
       "      <td>'yes'</td>\n",
       "      <td>4</td>\n",
       "      <td>3.14</td>\n",
       "      <td>'no'</td>\n",
       "      <td>1</td>\n",
       "      <td>0.88</td>\n",
       "      <td>3</td>\n",
       "      <td>False</td>\n",
       "      <td>0.625</td>\n",
       "    </tr>\n",
       "    <tr>\n",
       "      <th>5892928</th>\n",
       "      <td>4</td>\n",
       "      <td>'yes'</td>\n",
       "      <td>'yes'</td>\n",
       "      <td>0.250</td>\n",
       "      <td>0.750</td>\n",
       "      <td>'yes'</td>\n",
       "      <td>3</td>\n",
       "      <td>2.40</td>\n",
       "      <td>'no'</td>\n",
       "      <td>1</td>\n",
       "      <td>0.76</td>\n",
       "      <td>5</td>\n",
       "      <td>True</td>\n",
       "      <td>0.625</td>\n",
       "    </tr>\n",
       "    <tr>\n",
       "      <th>5917324</th>\n",
       "      <td>8</td>\n",
       "      <td>NaN</td>\n",
       "      <td>'yes'</td>\n",
       "      <td>NaN</td>\n",
       "      <td>0.500</td>\n",
       "      <td>'yes'</td>\n",
       "      <td>4</td>\n",
       "      <td>3.06</td>\n",
       "      <td>'no'</td>\n",
       "      <td>4</td>\n",
       "      <td>3.10</td>\n",
       "      <td>4</td>\n",
       "      <td>False</td>\n",
       "      <td>0.500</td>\n",
       "    </tr>\n",
       "    <tr>\n",
       "      <th>5896492</th>\n",
       "      <td>6</td>\n",
       "      <td>'yes'</td>\n",
       "      <td>'yes'</td>\n",
       "      <td>0.167</td>\n",
       "      <td>0.833</td>\n",
       "      <td>'yes'</td>\n",
       "      <td>5</td>\n",
       "      <td>3.94</td>\n",
       "      <td>'no'</td>\n",
       "      <td>1</td>\n",
       "      <td>0.78</td>\n",
       "      <td>6</td>\n",
       "      <td>True</td>\n",
       "      <td>0.750</td>\n",
       "    </tr>\n",
       "    <tr>\n",
       "      <th>5900598</th>\n",
       "      <td>6</td>\n",
       "      <td>NaN</td>\n",
       "      <td>'no'</td>\n",
       "      <td>NaN</td>\n",
       "      <td>1.000</td>\n",
       "      <td>'no'</td>\n",
       "      <td>6</td>\n",
       "      <td>4.76</td>\n",
       "      <td>'yes'</td>\n",
       "      <td>0</td>\n",
       "      <td>0.00</td>\n",
       "      <td>4</td>\n",
       "      <td>False</td>\n",
       "      <td>0.500</td>\n",
       "    </tr>\n",
       "  </tbody>\n",
       "</table>\n",
       "</div>"
      ],
      "text/plain": [
       "         Qualified Reads Correct Label Majority Label  Difficulty  Agreement  \\\n",
       "Case ID                                                                        \n",
       "5893135                5          'no'          'yes'       0.800      0.800   \n",
       "5892928                4         'yes'          'yes'       0.250      0.750   \n",
       "5917324                8           NaN          'yes'         NaN      0.500   \n",
       "5896492                6         'yes'          'yes'       0.167      0.833   \n",
       "5900598                6           NaN           'no'         NaN      1.000   \n",
       "\n",
       "        First Choice Answer  First Choice Votes  First Choice Weight  \\\n",
       "Case ID                                                                \n",
       "5893135               'yes'                   4                 3.14   \n",
       "5892928               'yes'                   3                 2.40   \n",
       "5917324               'yes'                   4                 3.06   \n",
       "5896492               'yes'                   5                 3.94   \n",
       "5900598                'no'                   6                 4.76   \n",
       "\n",
       "        Second Choice Answer  Second Choice Votes  Second Choice Weight  \\\n",
       "Case ID                                                                   \n",
       "5893135                 'no'                    1                  0.88   \n",
       "5892928                 'no'                    1                  0.76   \n",
       "5917324                 'no'                    4                  3.10   \n",
       "5896492                 'no'                    1                  0.78   \n",
       "5900598                'yes'                    0                  0.00   \n",
       "\n",
       "         Votes  Majority Correct  Expert Correct  \n",
       "Case ID                                           \n",
       "5893135      3             False           0.625  \n",
       "5892928      5              True           0.625  \n",
       "5917324      4             False           0.500  \n",
       "5896492      6              True           0.750  \n",
       "5900598      4             False           0.500  "
      ]
     },
     "execution_count": 5,
     "metadata": {},
     "output_type": "execute_result"
    }
   ],
   "source": [
    "valid_results.sample(5, random_state=1)"
   ]
  },
  {
   "cell_type": "code",
   "execution_count": 6,
   "metadata": {},
   "outputs": [
    {
     "data": {
      "text/html": [
       "<div>\n",
       "<style scoped>\n",
       "    .dataframe tbody tr th:only-of-type {\n",
       "        vertical-align: middle;\n",
       "    }\n",
       "\n",
       "    .dataframe tbody tr th {\n",
       "        vertical-align: top;\n",
       "    }\n",
       "\n",
       "    .dataframe thead th {\n",
       "        text-align: right;\n",
       "    }\n",
       "</style>\n",
       "<table border=\"1\" class=\"dataframe\">\n",
       "  <thead>\n",
       "    <tr style=\"text-align: right;\">\n",
       "      <th></th>\n",
       "      <th>problem_id</th>\n",
       "      <th>user_id</th>\n",
       "      <th>accuracy</th>\n",
       "      <th>chosen_answer</th>\n",
       "    </tr>\n",
       "  </thead>\n",
       "  <tbody>\n",
       "    <tr>\n",
       "      <th>63015</th>\n",
       "      <td>5901147</td>\n",
       "      <td>172770</td>\n",
       "      <td>0.78</td>\n",
       "      <td>['yes']</td>\n",
       "    </tr>\n",
       "    <tr>\n",
       "      <th>85312</th>\n",
       "      <td>5905507</td>\n",
       "      <td>224761</td>\n",
       "      <td>0.82</td>\n",
       "      <td>['no']</td>\n",
       "    </tr>\n",
       "    <tr>\n",
       "      <th>48486</th>\n",
       "      <td>5898329</td>\n",
       "      <td>245612</td>\n",
       "      <td>0.84</td>\n",
       "      <td>['no']</td>\n",
       "    </tr>\n",
       "    <tr>\n",
       "      <th>950</th>\n",
       "      <td>5888303</td>\n",
       "      <td>245612</td>\n",
       "      <td>0.82</td>\n",
       "      <td>['no']</td>\n",
       "    </tr>\n",
       "    <tr>\n",
       "      <th>123176</th>\n",
       "      <td>5913035</td>\n",
       "      <td>245612</td>\n",
       "      <td>0.76</td>\n",
       "      <td>['no']</td>\n",
       "    </tr>\n",
       "  </tbody>\n",
       "</table>\n",
       "</div>"
      ],
      "text/plain": [
       "        problem_id  user_id  accuracy chosen_answer\n",
       "63015      5901147   172770      0.78       ['yes']\n",
       "85312      5905507   224761      0.82        ['no']\n",
       "48486      5898329   245612      0.84        ['no']\n",
       "950        5888303   245612      0.82        ['no']\n",
       "123176     5913035   245612      0.76        ['no']"
      ]
     },
     "execution_count": 6,
     "metadata": {},
     "output_type": "execute_result"
    }
   ],
   "source": [
    "reads.sample(5, random_state=1)"
   ]
  },
  {
   "cell_type": "markdown",
   "metadata": {},
   "source": [
    "## Remarks on \"Correct Label\""
   ]
  },
  {
   "cell_type": "markdown",
   "metadata": {},
   "source": [
    "We would like to understand what each column mean and how they are interpreted in our analysis.\\\n",
    "We start by looking at the relation between the correct labels and expert votes."
   ]
  },
  {
   "cell_type": "markdown",
   "metadata": {},
   "source": [
    "By interpreting number of votes<4 as having a correct label of 'no', number of votes>4 as having a correct label of 'yes', and having no correct label otherwise, this column completely agrees with the \"Correct Label\" column.\\\n",
    "This means that our \"Correct Label\" is determined by the expert majority."
   ]
  },
  {
   "cell_type": "code",
   "execution_count": 7,
   "metadata": {},
   "outputs": [
    {
     "name": "stdout",
     "output_type": "stream",
     "text": [
      "Correct Labels corresponding to < 4 votes: [\"'no'\"]\n",
      "Correct Labels corresponding to > 4 votes: [\"'yes'\"]\n",
      "Correct Labels corresponding to = 4 votes: [nan]\n"
     ]
    }
   ],
   "source": [
    "print(\"Correct Labels corresponding to < 4 votes:\", valid_results.loc[valid_results[\"Votes\"]<4,\"Correct Label\"].unique())\n",
    "print(\"Correct Labels corresponding to > 4 votes:\", valid_results.loc[valid_results[\"Votes\"]>4,\"Correct Label\"].unique())\n",
    "print(\"Correct Labels corresponding to = 4 votes:\", valid_results.loc[valid_results[\"Votes\"]==4,\"Correct Label\"].unique())"
   ]
  },
  {
   "cell_type": "markdown",
   "metadata": {},
   "source": [
    "We also note that out of the 27000 results, 12000 of them have a correct label of 'no', 12000 of them have a correct label of 'yes', and 3000 of them have no correct label."
   ]
  },
  {
   "cell_type": "code",
   "execution_count": 8,
   "metadata": {},
   "outputs": [
    {
     "name": "stdout",
     "output_type": "stream",
     "text": [
      "'no'     12000\n",
      "'yes'    12000\n",
      "NaN       3000\n",
      "Name: Correct Label, dtype: int64\n"
     ]
    }
   ],
   "source": [
    "print(valid_results[\"Correct Label\"].value_counts(dropna=False))"
   ]
  },
  {
   "cell_type": "markdown",
   "metadata": {},
   "source": [
    "## Remark on \"Majority Label\""
   ]
  },
  {
   "cell_type": "markdown",
   "metadata": {},
   "source": [
    "Then we investigate the data on crowd votes."
   ]
  },
  {
   "cell_type": "markdown",
   "metadata": {},
   "source": [
    "Out of the 27000 results, 14547 of them have a majority label of 'no', 12211 of them have a majority label of 'yes', and 242 of them have no majority label."
   ]
  },
  {
   "cell_type": "code",
   "execution_count": 9,
   "metadata": {},
   "outputs": [
    {
     "name": "stdout",
     "output_type": "stream",
     "text": [
      "'yes'    14547\n",
      "'no'     12211\n",
      "NaN        242\n",
      "Name: Majority Label, dtype: int64\n"
     ]
    }
   ],
   "source": [
    "print(valid_results[\"Majority Label\"].value_counts(dropna=False))"
   ]
  },
  {
   "cell_type": "markdown",
   "metadata": {},
   "source": [
    "The reason that 242 of them have no majority labels is that all of them have no qualified reads."
   ]
  },
  {
   "cell_type": "code",
   "execution_count": 10,
   "metadata": {},
   "outputs": [
    {
     "name": "stdout",
     "output_type": "stream",
     "text": [
      "0    242\n",
      "Name: Qualified Reads, dtype: int64\n"
     ]
    }
   ],
   "source": [
    "print(valid_results.loc[valid_results[\"Majority Label\"].isna(),\"Qualified Reads\"].value_counts())"
   ]
  },
  {
   "cell_type": "markdown",
   "metadata": {},
   "source": [
    "Of the results with at least one qualified reads, 1580 of them have an equal number of yes/no votes. In these cases, the majority label is determined by the sum of accuracy score of qualified reads for each choice answer."
   ]
  },
  {
   "cell_type": "code",
   "execution_count": 11,
   "metadata": {},
   "outputs": [
    {
     "name": "stdout",
     "output_type": "stream",
     "text": [
      "'no'     764\n",
      "'yes'    744\n",
      "Name: Majority Label, dtype: int64\n"
     ]
    }
   ],
   "source": [
    "print(valid_results.loc[(valid_results[\"First Choice Votes\"]==valid_results[\"Second Choice Votes\"])&(valid_results[\"Qualified Reads\"]!=0),\"Majority Label\"].value_counts(dropna=False))"
   ]
  },
  {
   "cell_type": "markdown",
   "metadata": {},
   "source": [
    "To sum up, the majority label is the label given by the majority of the crowd. In the case that there's a tie between two labels, the accuracy score of the labelers are considered to break the tie."
   ]
  },
  {
   "cell_type": "markdown",
   "metadata": {},
   "source": [
    "Now that we understand how the majority label and correct label are determined, we can throw out columns that are unnecessary for descriptive analysis. Also, in comparing the crowd label with expert label, we are only interested in cases that are reviewed by at least one labeler (so that there exists a majority label), so we throw out the 242 rows with no majority label. The resulted dataframe is the following."
   ]
  },
  {
   "cell_type": "code",
   "execution_count": 12,
   "metadata": {},
   "outputs": [
    {
     "data": {
      "text/html": [
       "<div>\n",
       "<style scoped>\n",
       "    .dataframe tbody tr th:only-of-type {\n",
       "        vertical-align: middle;\n",
       "    }\n",
       "\n",
       "    .dataframe tbody tr th {\n",
       "        vertical-align: top;\n",
       "    }\n",
       "\n",
       "    .dataframe thead th {\n",
       "        text-align: right;\n",
       "    }\n",
       "</style>\n",
       "<table border=\"1\" class=\"dataframe\">\n",
       "  <thead>\n",
       "    <tr style=\"text-align: right;\">\n",
       "      <th></th>\n",
       "      <th>Votes</th>\n",
       "      <th>Correct Label</th>\n",
       "      <th>Majority Label</th>\n",
       "      <th>Majority Correct</th>\n",
       "      <th>Expert Correct</th>\n",
       "      <th>Qualified Reads</th>\n",
       "      <th>Difficulty</th>\n",
       "      <th>Agreement</th>\n",
       "    </tr>\n",
       "    <tr>\n",
       "      <th>Case ID</th>\n",
       "      <th></th>\n",
       "      <th></th>\n",
       "      <th></th>\n",
       "      <th></th>\n",
       "      <th></th>\n",
       "      <th></th>\n",
       "      <th></th>\n",
       "      <th></th>\n",
       "    </tr>\n",
       "  </thead>\n",
       "  <tbody>\n",
       "    <tr>\n",
       "      <th>5911362</th>\n",
       "      <td>6</td>\n",
       "      <td>'yes'</td>\n",
       "      <td>'yes'</td>\n",
       "      <td>True</td>\n",
       "      <td>0.750</td>\n",
       "      <td>6</td>\n",
       "      <td>0.0</td>\n",
       "      <td>1.0</td>\n",
       "    </tr>\n",
       "    <tr>\n",
       "      <th>5902238</th>\n",
       "      <td>8</td>\n",
       "      <td>'yes'</td>\n",
       "      <td>'yes'</td>\n",
       "      <td>True</td>\n",
       "      <td>1.000</td>\n",
       "      <td>5</td>\n",
       "      <td>0.0</td>\n",
       "      <td>1.0</td>\n",
       "    </tr>\n",
       "    <tr>\n",
       "      <th>5903622</th>\n",
       "      <td>5</td>\n",
       "      <td>'yes'</td>\n",
       "      <td>'yes'</td>\n",
       "      <td>True</td>\n",
       "      <td>0.625</td>\n",
       "      <td>2</td>\n",
       "      <td>0.0</td>\n",
       "      <td>1.0</td>\n",
       "    </tr>\n",
       "    <tr>\n",
       "      <th>5895844</th>\n",
       "      <td>2</td>\n",
       "      <td>'no'</td>\n",
       "      <td>'no'</td>\n",
       "      <td>True</td>\n",
       "      <td>0.750</td>\n",
       "      <td>4</td>\n",
       "      <td>0.0</td>\n",
       "      <td>1.0</td>\n",
       "    </tr>\n",
       "    <tr>\n",
       "      <th>5907907</th>\n",
       "      <td>5</td>\n",
       "      <td>'yes'</td>\n",
       "      <td>'no'</td>\n",
       "      <td>False</td>\n",
       "      <td>0.625</td>\n",
       "      <td>6</td>\n",
       "      <td>1.0</td>\n",
       "      <td>1.0</td>\n",
       "    </tr>\n",
       "  </tbody>\n",
       "</table>\n",
       "</div>"
      ],
      "text/plain": [
       "         Votes Correct Label Majority Label  Majority Correct  Expert Correct  \\\n",
       "Case ID                                                                         \n",
       "5911362      6         'yes'          'yes'              True           0.750   \n",
       "5902238      8         'yes'          'yes'              True           1.000   \n",
       "5903622      5         'yes'          'yes'              True           0.625   \n",
       "5895844      2          'no'           'no'              True           0.750   \n",
       "5907907      5         'yes'           'no'             False           0.625   \n",
       "\n",
       "         Qualified Reads  Difficulty  Agreement  \n",
       "Case ID                                          \n",
       "5911362                6         0.0        1.0  \n",
       "5902238                5         0.0        1.0  \n",
       "5903622                2         0.0        1.0  \n",
       "5895844                4         0.0        1.0  \n",
       "5907907                6         1.0        1.0  "
      ]
     },
     "execution_count": 12,
     "metadata": {},
     "output_type": "execute_result"
    }
   ],
   "source": [
    "valid_results=valid_results.loc[~valid_results[\"Majority Label\"].isna(),[\"Votes\", \"Correct Label\", \"Majority Label\", \"Majority Correct\", \"Expert Correct\", \"Qualified Reads\", \"Difficulty\", \"Agreement\"]]\n",
    "valid_results.sample(5, random_state=1)"
   ]
  },
  {
   "cell_type": "markdown",
   "metadata": {},
   "source": [
    "# Descriptive Analysis\n",
    "We will try to prove that the crowd agree with the expert majority more often than individual experts agreeing with the expert majority.\\\n",
    "Since our \"Correct Label\" is determined by the expert majority, it is impossible for the crowd to outperform the expert majority. Thus, we will compare the performance of the crowd with the performance of individual experts, as measured by how often they agree with the correct label."
   ]
  },
  {
   "cell_type": "markdown",
   "metadata": {},
   "source": [
    "### Performance Comparison on all Cases"
   ]
  },
  {
   "cell_type": "markdown",
   "metadata": {},
   "source": [
    "We start by calculating the percentage of with individual experts agrees with the expert majority. Here we only consider cases when there is a correct label./ Overall, individual experts agree with correct label **81.27%** of the time."
   ]
  },
  {
   "cell_type": "code",
   "execution_count": 13,
   "metadata": {},
   "outputs": [
    {
     "data": {
      "text/plain": [
       "0.8126788871117098"
      ]
     },
     "execution_count": 13,
     "metadata": {},
     "output_type": "execute_result"
    }
   ],
   "source": [
    "np.mean(valid_results.loc[~valid_results[\"Correct Label\"].isna(),\"Expert Correct\"])"
   ]
  },
  {
   "cell_type": "markdown",
   "metadata": {},
   "source": [
    "Overall, crowd majority agrees with the correct label **78.61%** of the time."
   ]
  },
  {
   "cell_type": "code",
   "execution_count": 14,
   "metadata": {},
   "outputs": [
    {
     "data": {
      "text/plain": [
       "0.7861351965653675"
      ]
     },
     "execution_count": 14,
     "metadata": {},
     "output_type": "execute_result"
    }
   ],
   "source": [
    "np.mean(valid_results.loc[~valid_results[\"Correct Label\"].isna(),\"Majority Correct\"])"
   ]
  },
  {
   "cell_type": "markdown",
   "metadata": {},
   "source": [
    "From these result we see that the crowd does not outperform the experts overall. But note that the cases in our dataset varies in difficulty. Also, some cases only have a few qualified reads which may not be representative of the \"crowd\" opinion.\\\n",
    "Thus, we would still like to investigate if there are situations when the crowd outperforms the experts."
   ]
  },
  {
   "cell_type": "markdown",
   "metadata": {},
   "source": [
    "### Performance Comparison Grouped By Expert Agreement Rate"
   ]
  },
  {
   "cell_type": "markdown",
   "metadata": {},
   "source": [
    "Intuitively, if the experts have a high agreement rate (7 or 8 out of 8) on a certain, we expect this case to be an easy case and thus the crowd would agree more with the experts. The following analysis would demonstrate this correlation, and help identify situations when the crowd would outperform individual experts."
   ]
  },
  {
   "cell_type": "markdown",
   "metadata": {},
   "source": [
    "We separate the cases into groups according to the agreement rate of the experts on the cases, and look at how crowd performance compares with individual expert in each group. The result is presented in the following table and the visualization of the table. As an example of interpreting this table, the first row would mean: \"Among all cases when no expert vote on the 'yes' label, the crowd majority label the cases correctly 89% of the times\"."
   ]
  },
  {
   "cell_type": "code",
   "execution_count": 15,
   "metadata": {},
   "outputs": [
    {
     "data": {
      "text/html": [
       "<div>\n",
       "<style scoped>\n",
       "    .dataframe tbody tr th:only-of-type {\n",
       "        vertical-align: middle;\n",
       "    }\n",
       "\n",
       "    .dataframe tbody tr th {\n",
       "        vertical-align: top;\n",
       "    }\n",
       "\n",
       "    .dataframe thead th {\n",
       "        text-align: right;\n",
       "    }\n",
       "</style>\n",
       "<table border=\"1\" class=\"dataframe\">\n",
       "  <thead>\n",
       "    <tr style=\"text-align: right;\">\n",
       "      <th></th>\n",
       "      <th>Majority Correct</th>\n",
       "    </tr>\n",
       "    <tr>\n",
       "      <th>Expert Correct</th>\n",
       "      <th></th>\n",
       "    </tr>\n",
       "  </thead>\n",
       "  <tbody>\n",
       "    <tr>\n",
       "      <th>0.625</th>\n",
       "      <td>0.656050</td>\n",
       "    </tr>\n",
       "    <tr>\n",
       "      <th>0.750</th>\n",
       "      <td>0.757341</td>\n",
       "    </tr>\n",
       "    <tr>\n",
       "      <th>0.875</th>\n",
       "      <td>0.806018</td>\n",
       "    </tr>\n",
       "    <tr>\n",
       "      <th>1.000</th>\n",
       "      <td>0.924693</td>\n",
       "    </tr>\n",
       "  </tbody>\n",
       "</table>\n",
       "</div>"
      ],
      "text/plain": [
       "                Majority Correct\n",
       "Expert Correct                  \n",
       "0.625                   0.656050\n",
       "0.750                   0.757341\n",
       "0.875                   0.806018\n",
       "1.000                   0.924693"
      ]
     },
     "execution_count": 15,
     "metadata": {},
     "output_type": "execute_result"
    }
   ],
   "source": [
    "df = valid_results.groupby(\"Expert Correct\")[[\"Expert Correct\",  \"Majority Correct\"]].mean().loc[0.6:1,:]\n",
    "df[[\"Majority Correct\"]]"
   ]
  },
  {
   "cell_type": "code",
   "execution_count": 16,
   "metadata": {},
   "outputs": [
    {
     "data": {
      "text/plain": [
       "<AxesSubplot: xlabel='expert accuracy', ylabel='accuracy'>"
      ]
     },
     "execution_count": 16,
     "metadata": {},
     "output_type": "execute_result"
    },
    {
     "data": {
      "image/png": "[encoded data removed]",
      "text/plain": [
       "<Figure size 640x480 with 1 Axes>"
      ]
     },
     "metadata": {},
     "output_type": "display_data"
    }
   ],
   "source": [
    "df.plot(ylabel=\"accuracy\", xlabel=\"expert accuracy\")"
   ]
  },
  {
   "cell_type": "markdown",
   "metadata": {},
   "source": [
    "From the table and the plot, we can reach the following conclusions:\n",
    "- The crowd accuracy rate is higher for cases when experts have a higher agreement rate.\n",
    "- The crowd accuracy rate outperform individual experts on cases where experts have a lower agreement rate (5 or 6 out of 8, ie 62.5% - 75%).\n",
    "\n",
    "Qualitatively, if we restrict our analysis to cases where experts have a low agreement rate ($\\leq$ 75%), the crowd performs **2.79%** better than individual experts."
   ]
  },
  {
   "cell_type": "code",
   "execution_count": 17,
   "metadata": {},
   "outputs": [
    {
     "data": {
      "text/plain": [
       "0.02793364609204918"
      ]
     },
     "execution_count": 17,
     "metadata": {},
     "output_type": "execute_result"
    }
   ],
   "source": [
    "crowd_accuracy = np.mean(valid_results.loc[(~valid_results[\"Correct Label\"].isna()) & (valid_results[\"Expert Correct\"]<0.8),\"Majority Correct\"])\n",
    "expert_accuracy = np.mean(valid_results.loc[(~valid_results[\"Correct Label\"].isna()) & (valid_results[\"Expert Correct\"]<0.8),\"Expert Correct\"])\n",
    "crowd_accuracy / expert_accuracy - 1"
   ]
  },
  {
   "cell_type": "markdown",
   "metadata": {},
   "source": [
    "### Performance Comparison Grouped By Number of Qualified Reads"
   ]
  },
  {
   "cell_type": "markdown",
   "metadata": {},
   "source": [
    "It is noted that for some cases in our dataset, there is very few qualified reads. In these cases, the majority label are more prone to errors of individual labelers and less representative of the crowd opinion. In the following analysis, we will see how the number of qualified reads affects how the accuracy of the crowd compares to the accuracy of individual experts."
   ]
  },
  {
   "cell_type": "markdown",
   "metadata": {},
   "source": [
    "We separate all cases to groups according to the number of qualified reads on each case. Then for each group, we calculate the percentage of cases where the crowd majority agrees with the correct label and the percentage of individual experts agrees with the correct label. The result is presented in the following table and the visualization of the table. As an example of interpreting this table, the first row would mean: \"Among all cases where there's 1 qualified read, the crowd majority label the cases correctly 62% of the times, while individual experts label the cases correctly 79% of the times\"."
   ]
  },
  {
   "cell_type": "code",
   "execution_count": 18,
   "metadata": {},
   "outputs": [
    {
     "data": {
      "text/html": [
       "<div>\n",
       "<style scoped>\n",
       "    .dataframe tbody tr th:only-of-type {\n",
       "        vertical-align: middle;\n",
       "    }\n",
       "\n",
       "    .dataframe tbody tr th {\n",
       "        vertical-align: top;\n",
       "    }\n",
       "\n",
       "    .dataframe thead th {\n",
       "        text-align: right;\n",
       "    }\n",
       "</style>\n",
       "<table border=\"1\" class=\"dataframe\">\n",
       "  <thead>\n",
       "    <tr style=\"text-align: right;\">\n",
       "      <th></th>\n",
       "      <th>Majority Correct</th>\n",
       "      <th>Expert Correct</th>\n",
       "    </tr>\n",
       "    <tr>\n",
       "      <th>Qualified Reads</th>\n",
       "      <th></th>\n",
       "      <th></th>\n",
       "    </tr>\n",
       "  </thead>\n",
       "  <tbody>\n",
       "    <tr>\n",
       "      <th>1</th>\n",
       "      <td>0.621940</td>\n",
       "      <td>0.791818</td>\n",
       "    </tr>\n",
       "    <tr>\n",
       "      <th>2</th>\n",
       "      <td>0.678230</td>\n",
       "      <td>0.802432</td>\n",
       "    </tr>\n",
       "    <tr>\n",
       "      <th>3</th>\n",
       "      <td>0.738203</td>\n",
       "      <td>0.810017</td>\n",
       "    </tr>\n",
       "    <tr>\n",
       "      <th>4</th>\n",
       "      <td>0.754882</td>\n",
       "      <td>0.810648</td>\n",
       "    </tr>\n",
       "    <tr>\n",
       "      <th>5</th>\n",
       "      <td>0.812516</td>\n",
       "      <td>0.812391</td>\n",
       "    </tr>\n",
       "    <tr>\n",
       "      <th>6</th>\n",
       "      <td>0.833333</td>\n",
       "      <td>0.819753</td>\n",
       "    </tr>\n",
       "    <tr>\n",
       "      <th>7</th>\n",
       "      <td>0.879141</td>\n",
       "      <td>0.823028</td>\n",
       "    </tr>\n",
       "    <tr>\n",
       "      <th>8</th>\n",
       "      <td>0.889561</td>\n",
       "      <td>0.815904</td>\n",
       "    </tr>\n",
       "    <tr>\n",
       "      <th>9</th>\n",
       "      <td>0.900281</td>\n",
       "      <td>0.821805</td>\n",
       "    </tr>\n",
       "    <tr>\n",
       "      <th>10</th>\n",
       "      <td>0.940341</td>\n",
       "      <td>0.835582</td>\n",
       "    </tr>\n",
       "    <tr>\n",
       "      <th>11</th>\n",
       "      <td>0.919753</td>\n",
       "      <td>0.820216</td>\n",
       "    </tr>\n",
       "    <tr>\n",
       "      <th>12</th>\n",
       "      <td>0.904762</td>\n",
       "      <td>0.843254</td>\n",
       "    </tr>\n",
       "    <tr>\n",
       "      <th>13</th>\n",
       "      <td>1.000000</td>\n",
       "      <td>0.826923</td>\n",
       "    </tr>\n",
       "    <tr>\n",
       "      <th>14</th>\n",
       "      <td>1.000000</td>\n",
       "      <td>0.930556</td>\n",
       "    </tr>\n",
       "    <tr>\n",
       "      <th>15</th>\n",
       "      <td>1.000000</td>\n",
       "      <td>0.875000</td>\n",
       "    </tr>\n",
       "    <tr>\n",
       "      <th>16</th>\n",
       "      <td>1.000000</td>\n",
       "      <td>0.875000</td>\n",
       "    </tr>\n",
       "  </tbody>\n",
       "</table>\n",
       "</div>"
      ],
      "text/plain": [
       "                 Majority Correct  Expert Correct\n",
       "Qualified Reads                                  \n",
       "1                        0.621940        0.791818\n",
       "2                        0.678230        0.802432\n",
       "3                        0.738203        0.810017\n",
       "4                        0.754882        0.810648\n",
       "5                        0.812516        0.812391\n",
       "6                        0.833333        0.819753\n",
       "7                        0.879141        0.823028\n",
       "8                        0.889561        0.815904\n",
       "9                        0.900281        0.821805\n",
       "10                       0.940341        0.835582\n",
       "11                       0.919753        0.820216\n",
       "12                       0.904762        0.843254\n",
       "13                       1.000000        0.826923\n",
       "14                       1.000000        0.930556\n",
       "15                       1.000000        0.875000\n",
       "16                       1.000000        0.875000"
      ]
     },
     "execution_count": 18,
     "metadata": {},
     "output_type": "execute_result"
    }
   ],
   "source": [
    "df = valid_results.loc[~valid_results[\"Correct Label\"].isna(),[\"Qualified Reads\", \"Majority Correct\",\"Expert Correct\"]].groupby([\"Qualified Reads\"]).mean()\n",
    "df"
   ]
  },
  {
   "cell_type": "code",
   "execution_count": 19,
   "metadata": {},
   "outputs": [
    {
     "data": {
      "text/plain": [
       "<AxesSubplot: xlabel='Qualified Reads', ylabel='accuracy'>"
      ]
     },
     "execution_count": 19,
     "metadata": {},
     "output_type": "execute_result"
    },
    {
     "data": {
      "image/png": "[encoded data removed]",
      "text/plain": [
       "<Figure size 640x480 with 1 Axes>"
      ]
     },
     "metadata": {},
     "output_type": "display_data"
    }
   ],
   "source": [
    "df.plot(ylabel = \"accuracy\")"
   ]
  },
  {
   "cell_type": "markdown",
   "metadata": {},
   "source": [
    "We notice a few things from the plot:\n",
    "- For both the accuracy of the crowd and the experts, the curve is smoother for cases with less than 10 qualified reads and jumps more for cases with more than 10 qualified reads. A possible explanation for this is that there are fewer cases with more than 10 qualified reads.\n",
    "- The accuracy rate of individual experts is around 0.8 regardless of the number of qualified reads. This make sense because the expert accuracy is independent of the number of qualified reads.\n",
    "- The accuracy rate of crowd majority tend to be higher for cases with more qualified reads.\n",
    "- For cases with less than 5 qualified reads, the accuracy rate of the crowd is less than the accuracy rate of individual experts; **For cases with more than 5 qualified reads, the accuracy rate of the crowd is higher than the accuracy rate of individual experts**.\n",
    "\n",
    "Qualitatively, if we restrict our analysis to cases with more than 5 qualified reads, the crowd performs **5.76%** better than individual experts."
   ]
  },
  {
   "cell_type": "code",
   "execution_count": 20,
   "metadata": {},
   "outputs": [
    {
     "data": {
      "text/plain": [
       "0.05759063086281713"
      ]
     },
     "execution_count": 20,
     "metadata": {},
     "output_type": "execute_result"
    }
   ],
   "source": [
    "crowd_accuracy = np.mean(valid_results.loc[(~valid_results[\"Correct Label\"].isna()) & (valid_results[\"Qualified Reads\"]>5),\"Majority Correct\"])\n",
    "expert_accuracy = np.mean(valid_results.loc[(~valid_results[\"Correct Label\"].isna()) & (valid_results[\"Qualified Reads\"]>5),\"Expert Correct\"])\n",
    "crowd_accuracy / expert_accuracy - 1"
   ]
  },
  {
   "cell_type": "markdown",
   "metadata": {},
   "source": [
    "### Performance Comparison Grouped By Both Factors"
   ]
  },
  {
   "cell_type": "markdown",
   "metadata": {},
   "source": [
    "From previous sections, we know that crowd outperforms individual experts on cases with *less agreement among experts* and *more qualified reads*. Now we combine these two factors and have a closer look at the subcases."
   ]
  },
  {
   "cell_type": "markdown",
   "metadata": {},
   "source": [
    "The following table shows the accuracy rate of the crowd on cases with a specific number of qualified reads (for each row) and a specific expert agreement rate (for each column). An example of interpreting this table is: \"Among all cases where there are 5 qualified read and where expert agreement rate is 75%, the crowd majority label the cases correctly 78% of the times.\""
   ]
  },
  {
   "cell_type": "markdown",
   "metadata": {},
   "source": [
    "In this table, higher crowd accuracy rate is shown in deeper color. We can see the trend of the accuracy being higher with the increase in both the expert agreement rate and the number of qualified reads. The crowd accuracy is highlighted in pink if it is higher than the accuracy of individual experts. The black cells indicate that there's no such cases."
   ]
  },
  {
   "cell_type": "code",
   "execution_count": 21,
   "metadata": {},
   "outputs": [],
   "source": [
    "df = valid_results.loc[~valid_results[\"Correct Label\"].isna(),[\"Qualified Reads\", \"Majority Correct\",\"Expert Correct\"]].groupby([\"Qualified Reads\",\"Expert Correct\"]).mean()\n",
    "df = df.unstack()"
   ]
  },
  {
   "cell_type": "code",
   "execution_count": 22,
   "metadata": {},
   "outputs": [
    {
     "data": {
      "text/html": [
       "<style type=\"text/css\">\n",
       "#T_58671_row0_col0 {\n",
       "  color: #a8bedc;\n",
       "}\n",
       "#T_58671_row0_col1, #T_58671_row0_col2, #T_58671_row0_col3, #T_58671_row1_col0 {\n",
       "  color: #b4c4df;\n",
       "}\n",
       "#T_58671_row1_col1 {\n",
       "  color: #7bacd1;\n",
       "}\n",
       "#T_58671_row1_col2 {\n",
       "  color: #89b1d4;\n",
       "}\n",
       "#T_58671_row1_col3 {\n",
       "  color: #589ec8;\n",
       "}\n",
       "#T_58671_row2_col0 {\n",
       "  color: #9ebad9;\n",
       "}\n",
       "#T_58671_row2_col1 {\n",
       "  color: #569dc8;\n",
       "}\n",
       "#T_58671_row2_col2 {\n",
       "  color: #4094c3;\n",
       "}\n",
       "#T_58671_row2_col3 {\n",
       "  color: #2685bb;\n",
       "}\n",
       "#T_58671_row3_col0 {\n",
       "  color: #91b5d6;\n",
       "}\n",
       "#T_58671_row3_col1 {\n",
       "  color: #3b92c1;\n",
       "}\n",
       "#T_58671_row3_col2 {\n",
       "  color: #4496c3;\n",
       "}\n",
       "#T_58671_row3_col3 {\n",
       "  color: #1c7fb8;\n",
       "}\n",
       "#T_58671_row4_col0 {\n",
       "  color: #63a2cb;\n",
       "  background-color: pink;\n",
       "}\n",
       "#T_58671_row4_col1, #T_58671_row6_col0 {\n",
       "  color: #2182b9;\n",
       "  background-color: pink;\n",
       "}\n",
       "#T_58671_row4_col2 {\n",
       "  color: #0f76b3;\n",
       "}\n",
       "#T_58671_row4_col3 {\n",
       "  color: #04649e;\n",
       "}\n",
       "#T_58671_row5_col0 {\n",
       "  color: #569dc8;\n",
       "  background-color: pink;\n",
       "}\n",
       "#T_58671_row5_col1 {\n",
       "  color: #1379b5;\n",
       "  background-color: pink;\n",
       "}\n",
       "#T_58671_row5_col2 {\n",
       "  color: #0570b0;\n",
       "}\n",
       "#T_58671_row5_col3 {\n",
       "  color: #046096;\n",
       "}\n",
       "#T_58671_row6_col1, #T_58671_row9_col0 {\n",
       "  color: #0569a5;\n",
       "  background-color: pink;\n",
       "}\n",
       "#T_58671_row6_col2 {\n",
       "  color: #04649e;\n",
       "  background-color: pink;\n",
       "}\n",
       "#T_58671_row6_col3 {\n",
       "  color: #045788;\n",
       "}\n",
       "#T_58671_row7_col0 {\n",
       "  color: #197db7;\n",
       "  background-color: pink;\n",
       "}\n",
       "#T_58671_row7_col1 {\n",
       "  color: #05659f;\n",
       "  background-color: pink;\n",
       "}\n",
       "#T_58671_row7_col2 {\n",
       "  color: #045e94;\n",
       "  background-color: pink;\n",
       "}\n",
       "#T_58671_row7_col3 {\n",
       "  color: #034f7d;\n",
       "}\n",
       "#T_58671_row8_col0 {\n",
       "  color: #056fae;\n",
       "  background-color: pink;\n",
       "}\n",
       "#T_58671_row8_col1 {\n",
       "  color: #0567a2;\n",
       "  background-color: pink;\n",
       "}\n",
       "#T_58671_row8_col2 {\n",
       "  color: #045b8e;\n",
       "  background-color: pink;\n",
       "}\n",
       "#T_58671_row8_col3 {\n",
       "  color: #04588a;\n",
       "}\n",
       "#T_58671_row9_col1 {\n",
       "  color: #045687;\n",
       "  background-color: pink;\n",
       "}\n",
       "#T_58671_row9_col2 {\n",
       "  color: #034b76;\n",
       "  background-color: pink;\n",
       "}\n",
       "#T_58671_row9_col3 {\n",
       "  color: #023f64;\n",
       "}\n",
       "#T_58671_row10_col0, #T_58671_row10_col2 {\n",
       "  color: #0567a1;\n",
       "  background-color: pink;\n",
       "}\n",
       "#T_58671_row10_col1 {\n",
       "  color: #045788;\n",
       "  background-color: pink;\n",
       "}\n",
       "#T_58671_row10_col3, #T_58671_row11_col1, #T_58671_row12_col0, #T_58671_row12_col1, #T_58671_row12_col2, #T_58671_row12_col3, #T_58671_row13_col0, #T_58671_row13_col2, #T_58671_row13_col3, #T_58671_row14_col1, #T_58671_row14_col3, #T_58671_row15_col2 {\n",
       "  color: #023858;\n",
       "  background-color: pink;\n",
       "}\n",
       "#T_58671_row11_col0 {\n",
       "  color: #2786bb;\n",
       "  background-color: pink;\n",
       "}\n",
       "#T_58671_row11_col2 {\n",
       "  color: #04598c;\n",
       "  background-color: pink;\n",
       "}\n",
       "#T_58671_row11_col3 {\n",
       "  color: #1379b5;\n",
       "}\n",
       "#T_58671_row13_col1, #T_58671_row14_col0, #T_58671_row14_col2, #T_58671_row15_col0, #T_58671_row15_col1, #T_58671_row15_col3 {\n",
       "  color: #000000;\n",
       "  background-color: Black;\n",
       "}\n",
       "</style>\n",
       "<table id=\"T_58671\">\n",
       "  <thead>\n",
       "    <tr>\n",
       "      <th class=\"blank level0\" >&nbsp;</th>\n",
       "      <th id=\"T_58671_level0_col0\" class=\"col_heading level0 col0\" colspan=\"4\">Majority Correct</th>\n",
       "    </tr>\n",
       "    <tr>\n",
       "      <th class=\"index_name level1\" >Expert Correct</th>\n",
       "      <th id=\"T_58671_level1_col0\" class=\"col_heading level1 col0\" >0.625000</th>\n",
       "      <th id=\"T_58671_level1_col1\" class=\"col_heading level1 col1\" >0.750000</th>\n",
       "      <th id=\"T_58671_level1_col2\" class=\"col_heading level1 col2\" >0.875000</th>\n",
       "      <th id=\"T_58671_level1_col3\" class=\"col_heading level1 col3\" >1.000000</th>\n",
       "    </tr>\n",
       "    <tr>\n",
       "      <th class=\"index_name level0\" >Qualified Reads</th>\n",
       "      <th class=\"blank col0\" >&nbsp;</th>\n",
       "      <th class=\"blank col1\" >&nbsp;</th>\n",
       "      <th class=\"blank col2\" >&nbsp;</th>\n",
       "      <th class=\"blank col3\" >&nbsp;</th>\n",
       "    </tr>\n",
       "  </thead>\n",
       "  <tbody>\n",
       "    <tr>\n",
       "      <th id=\"T_58671_level0_row0\" class=\"row_heading level0 row0\" >1</th>\n",
       "      <td id=\"T_58671_row0_col0\" class=\"data row0 col0\" >0.571429</td>\n",
       "      <td id=\"T_58671_row0_col1\" class=\"data row0 col1\" >0.549618</td>\n",
       "      <td id=\"T_58671_row0_col2\" class=\"data row0 col2\" >0.616197</td>\n",
       "      <td id=\"T_58671_row0_col3\" class=\"data row0 col3\" >0.799065</td>\n",
       "    </tr>\n",
       "    <tr>\n",
       "      <th id=\"T_58671_level0_row1\" class=\"row_heading level0 row1\" >2</th>\n",
       "      <td id=\"T_58671_row1_col0\" class=\"data row1 col0\" >0.546667</td>\n",
       "      <td id=\"T_58671_row1_col1\" class=\"data row1 col1\" >0.649175</td>\n",
       "      <td id=\"T_58671_row1_col2\" class=\"data row1 col2\" >0.682645</td>\n",
       "      <td id=\"T_58671_row1_col3\" class=\"data row1 col3\" >0.866310</td>\n",
       "    </tr>\n",
       "    <tr>\n",
       "      <th id=\"T_58671_level0_row2\" class=\"row_heading level0 row2\" >3</th>\n",
       "      <td id=\"T_58671_row2_col0\" class=\"data row2 col0\" >0.588297</td>\n",
       "      <td id=\"T_58671_row2_col1\" class=\"data row2 col1\" >0.703743</td>\n",
       "      <td id=\"T_58671_row2_col2\" class=\"data row2 col2\" >0.770833</td>\n",
       "      <td id=\"T_58671_row2_col3\" class=\"data row2 col3\" >0.898776</td>\n",
       "    </tr>\n",
       "    <tr>\n",
       "      <th id=\"T_58671_level0_row3\" class=\"row_heading level0 row3\" >4</th>\n",
       "      <td id=\"T_58671_row3_col0\" class=\"data row3 col0\" >0.611459</td>\n",
       "      <td id=\"T_58671_row3_col1\" class=\"data row3 col1\" >0.739011</td>\n",
       "      <td id=\"T_58671_row3_col2\" class=\"data row3 col2\" >0.767705</td>\n",
       "      <td id=\"T_58671_row3_col3\" class=\"data row3 col3\" >0.905991</td>\n",
       "    </tr>\n",
       "    <tr>\n",
       "      <th id=\"T_58671_level0_row4\" class=\"row_heading level0 row4\" >5</th>\n",
       "      <td id=\"T_58671_row4_col0\" class=\"data row4 col0\" >0.682604</td>\n",
       "      <td id=\"T_58671_row4_col1\" class=\"data row4 col1\" >0.781220</td>\n",
       "      <td id=\"T_58671_row4_col2\" class=\"data row4 col2\" >0.841791</td>\n",
       "      <td id=\"T_58671_row4_col3\" class=\"data row4 col3\" >0.944444</td>\n",
       "    </tr>\n",
       "    <tr>\n",
       "      <th id=\"T_58671_level0_row5\" class=\"row_heading level0 row5\" >6</th>\n",
       "      <td id=\"T_58671_row5_col0\" class=\"data row5 col0\" >0.700887</td>\n",
       "      <td id=\"T_58671_row5_col1\" class=\"data row5 col1\" >0.807181</td>\n",
       "      <td id=\"T_58671_row5_col2\" class=\"data row5 col2\" >0.855181</td>\n",
       "      <td id=\"T_58671_row5_col3\" class=\"data row5 col3\" >0.952116</td>\n",
       "    </tr>\n",
       "    <tr>\n",
       "      <th id=\"T_58671_level0_row6\" class=\"row_heading level0 row6\" >7</th>\n",
       "      <td id=\"T_58671_row6_col0\" class=\"data row6 col0\" >0.781857</td>\n",
       "      <td id=\"T_58671_row6_col1\" class=\"data row6 col1\" >0.856102</td>\n",
       "      <td id=\"T_58671_row6_col2\" class=\"data row6 col2\" >0.892139</td>\n",
       "      <td id=\"T_58671_row6_col3\" class=\"data row6 col3\" >0.965753</td>\n",
       "    </tr>\n",
       "    <tr>\n",
       "      <th id=\"T_58671_level0_row7\" class=\"row_heading level0 row7\" >8</th>\n",
       "      <td id=\"T_58671_row7_col0\" class=\"data row7 col0\" >0.792994</td>\n",
       "      <td id=\"T_58671_row7_col1\" class=\"data row7 col1\" >0.870871</td>\n",
       "      <td id=\"T_58671_row7_col2\" class=\"data row7 col2\" >0.914454</td>\n",
       "      <td id=\"T_58671_row7_col3\" class=\"data row7 col3\" >0.973214</td>\n",
       "    </tr>\n",
       "    <tr>\n",
       "      <th id=\"T_58671_level0_row8\" class=\"row_heading level0 row8\" >9</th>\n",
       "      <td id=\"T_58671_row8_col0\" class=\"data row8 col0\" >0.833333</td>\n",
       "      <td id=\"T_58671_row8_col1\" class=\"data row8 col1\" >0.864198</td>\n",
       "      <td id=\"T_58671_row8_col2\" class=\"data row8 col2\" >0.925134</td>\n",
       "      <td id=\"T_58671_row8_col3\" class=\"data row8 col3\" >0.964103</td>\n",
       "    </tr>\n",
       "    <tr>\n",
       "      <th id=\"T_58671_level0_row9\" class=\"row_heading level0 row9\" >10</th>\n",
       "      <td id=\"T_58671_row9_col0\" class=\"data row9 col0\" >0.855072</td>\n",
       "      <td id=\"T_58671_row9_col1\" class=\"data row9 col1\" >0.925926</td>\n",
       "      <td id=\"T_58671_row9_col2\" class=\"data row9 col2\" >0.957447</td>\n",
       "      <td id=\"T_58671_row9_col3\" class=\"data row9 col3\" >0.990741</td>\n",
       "    </tr>\n",
       "    <tr>\n",
       "      <th id=\"T_58671_level0_row10\" class=\"row_heading level0 row10\" >11</th>\n",
       "      <td id=\"T_58671_row10_col0\" class=\"data row10 col0\" >0.864865</td>\n",
       "      <td id=\"T_58671_row10_col1\" class=\"data row10 col1\" >0.923077</td>\n",
       "      <td id=\"T_58671_row10_col2\" class=\"data row10 col2\" >0.886364</td>\n",
       "      <td id=\"T_58671_row10_col3\" class=\"data row10 col3\" >1.000000</td>\n",
       "    </tr>\n",
       "    <tr>\n",
       "      <th id=\"T_58671_level0_row11\" class=\"row_heading level0 row11\" >12</th>\n",
       "      <td id=\"T_58671_row11_col0\" class=\"data row11 col0\" >0.769231</td>\n",
       "      <td id=\"T_58671_row11_col1\" class=\"data row11 col1\" >1.000000</td>\n",
       "      <td id=\"T_58671_row11_col2\" class=\"data row11 col2\" >0.928571</td>\n",
       "      <td id=\"T_58671_row11_col3\" class=\"data row11 col3\" >0.913043</td>\n",
       "    </tr>\n",
       "    <tr>\n",
       "      <th id=\"T_58671_level0_row12\" class=\"row_heading level0 row12\" >13</th>\n",
       "      <td id=\"T_58671_row12_col0\" class=\"data row12 col0\" >1.000000</td>\n",
       "      <td id=\"T_58671_row12_col1\" class=\"data row12 col1\" >1.000000</td>\n",
       "      <td id=\"T_58671_row12_col2\" class=\"data row12 col2\" >1.000000</td>\n",
       "      <td id=\"T_58671_row12_col3\" class=\"data row12 col3\" >1.000000</td>\n",
       "    </tr>\n",
       "    <tr>\n",
       "      <th id=\"T_58671_level0_row13\" class=\"row_heading level0 row13\" >14</th>\n",
       "      <td id=\"T_58671_row13_col0\" class=\"data row13 col0\" >1.000000</td>\n",
       "      <td id=\"T_58671_row13_col1\" class=\"data row13 col1\" >nan</td>\n",
       "      <td id=\"T_58671_row13_col2\" class=\"data row13 col2\" >1.000000</td>\n",
       "      <td id=\"T_58671_row13_col3\" class=\"data row13 col3\" >1.000000</td>\n",
       "    </tr>\n",
       "    <tr>\n",
       "      <th id=\"T_58671_level0_row14\" class=\"row_heading level0 row14\" >15</th>\n",
       "      <td id=\"T_58671_row14_col0\" class=\"data row14 col0\" >nan</td>\n",
       "      <td id=\"T_58671_row14_col1\" class=\"data row14 col1\" >1.000000</td>\n",
       "      <td id=\"T_58671_row14_col2\" class=\"data row14 col2\" >nan</td>\n",
       "      <td id=\"T_58671_row14_col3\" class=\"data row14 col3\" >1.000000</td>\n",
       "    </tr>\n",
       "    <tr>\n",
       "      <th id=\"T_58671_level0_row15\" class=\"row_heading level0 row15\" >16</th>\n",
       "      <td id=\"T_58671_row15_col0\" class=\"data row15 col0\" >nan</td>\n",
       "      <td id=\"T_58671_row15_col1\" class=\"data row15 col1\" >nan</td>\n",
       "      <td id=\"T_58671_row15_col2\" class=\"data row15 col2\" >1.000000</td>\n",
       "      <td id=\"T_58671_row15_col3\" class=\"data row15 col3\" >nan</td>\n",
       "    </tr>\n",
       "  </tbody>\n",
       "</table>\n"
      ],
      "text/plain": [
       "<pandas.io.formats.style.Styler at 0x2625e089c60>"
      ]
     },
     "execution_count": 22,
     "metadata": {},
     "output_type": "execute_result"
    }
   ],
   "source": [
    "df.style.text_gradient(low=0.5)\\\n",
    "        .applymap(lambda x: props if x>=0.625 else None, subset=[df.columns[0]])\\\n",
    "        .applymap(lambda x: props if x>=0.75 else None, subset=[df.columns[1]])\\\n",
    "        .applymap(lambda x: props if x>=0.875 else None, subset=[df.columns[2]])\\\n",
    "        .applymap(lambda x: props if x>=1 else None, subset=[df.columns[3]])\\\n",
    "        .highlight_null('Black')"
   ]
  },
  {
   "cell_type": "markdown",
   "metadata": {},
   "source": [
    "The pink cells are clustered in the lower left corner, which are cases with more qualified reads and less agreement among experts. Thus, we conclude based on this table that **crowd outperforms individual experts on cases where the expert agreement rate is at most 75% and the number of qualified reads is more than 5, and for cases there the expert agreement rate is 87.5%, the crowd outperform individual expert if there are at least 7 qualified reads**."
   ]
  },
  {
   "cell_type": "markdown",
   "metadata": {},
   "source": [
    "### Was the crowd more certain than experts?"
   ]
  },
  {
   "cell_type": "markdown",
   "metadata": {},
   "source": [
    "In the following table, we calculated the mean agreement rate of the crowd among themselves and with the experts, grouped by the agreement rate among experts. The first column is the agreement rate among crowd, the last is the agreement among experts."
   ]
  },
  {
   "cell_type": "code",
   "execution_count": 23,
   "metadata": {},
   "outputs": [
    {
     "data": {
      "text/html": [
       "<div>\n",
       "<style scoped>\n",
       "    .dataframe tbody tr th:only-of-type {\n",
       "        vertical-align: middle;\n",
       "    }\n",
       "\n",
       "    .dataframe tbody tr th {\n",
       "        vertical-align: top;\n",
       "    }\n",
       "\n",
       "    .dataframe thead th {\n",
       "        text-align: right;\n",
       "    }\n",
       "</style>\n",
       "<table border=\"1\" class=\"dataframe\">\n",
       "  <thead>\n",
       "    <tr style=\"text-align: right;\">\n",
       "      <th></th>\n",
       "      <th>Crowd Agreement</th>\n",
       "      <th>Expert Agreement</th>\n",
       "    </tr>\n",
       "    <tr>\n",
       "      <th>Votes</th>\n",
       "      <th></th>\n",
       "      <th></th>\n",
       "    </tr>\n",
       "  </thead>\n",
       "  <tbody>\n",
       "    <tr>\n",
       "      <th>0</th>\n",
       "      <td>0.918691</td>\n",
       "      <td>1.000</td>\n",
       "    </tr>\n",
       "    <tr>\n",
       "      <th>1</th>\n",
       "      <td>0.868989</td>\n",
       "      <td>0.875</td>\n",
       "    </tr>\n",
       "    <tr>\n",
       "      <th>2</th>\n",
       "      <td>0.860767</td>\n",
       "      <td>0.750</td>\n",
       "    </tr>\n",
       "    <tr>\n",
       "      <th>3</th>\n",
       "      <td>0.862261</td>\n",
       "      <td>0.625</td>\n",
       "    </tr>\n",
       "    <tr>\n",
       "      <th>4</th>\n",
       "      <td>0.826883</td>\n",
       "      <td>0.500</td>\n",
       "    </tr>\n",
       "    <tr>\n",
       "      <th>5</th>\n",
       "      <td>0.856689</td>\n",
       "      <td>0.625</td>\n",
       "    </tr>\n",
       "    <tr>\n",
       "      <th>6</th>\n",
       "      <td>0.889775</td>\n",
       "      <td>0.750</td>\n",
       "    </tr>\n",
       "    <tr>\n",
       "      <th>7</th>\n",
       "      <td>0.903458</td>\n",
       "      <td>0.875</td>\n",
       "    </tr>\n",
       "    <tr>\n",
       "      <th>8</th>\n",
       "      <td>0.943650</td>\n",
       "      <td>1.000</td>\n",
       "    </tr>\n",
       "  </tbody>\n",
       "</table>\n",
       "</div>"
      ],
      "text/plain": [
       "       Crowd Agreement  Expert Agreement\n",
       "Votes                                   \n",
       "0             0.918691             1.000\n",
       "1             0.868989             0.875\n",
       "2             0.860767             0.750\n",
       "3             0.862261             0.625\n",
       "4             0.826883             0.500\n",
       "5             0.856689             0.625\n",
       "6             0.889775             0.750\n",
       "7             0.903458             0.875\n",
       "8             0.943650             1.000"
      ]
     },
     "execution_count": 23,
     "metadata": {},
     "output_type": "execute_result"
    }
   ],
   "source": [
    "agreement_df = valid_results.groupby(\"Votes\")[[\"Agreement\", \"Expert Correct\"]].mean()\n",
    "agreement_df.rename(columns={\"Agreement\":\"Crowd Agreement\", \"Expert Correct\":\"Expert Agreement\"},inplace=True)\n",
    "agreement_df"
   ]
  },
  {
   "cell_type": "markdown",
   "metadata": {},
   "source": [
    "The plot below provides a visualization of the previous table. As we can see in the plot, the agreement rate among the crowd is high regardless of the expert agreement rate. This is especially interesting for cases where the agreement rate among experts is low (Votes=4). It means that for cases when experts agree only 50% of the times among themselves, the crowd is agreeing 82% of the times. Thus, the crowd shows a much higher certainty on cases where experts are less certain."
   ]
  },
  {
   "cell_type": "code",
   "execution_count": 24,
   "metadata": {},
   "outputs": [
    {
     "data": {
      "text/plain": [
       "<AxesSubplot: xlabel='Votes'>"
      ]
     },
     "execution_count": 24,
     "metadata": {},
     "output_type": "execute_result"
    },
    {
     "data": {
      "image/png": "[encoded data removed]",
      "text/plain": [
       "<Figure size 640x480 with 1 Axes>"
      ]
     },
     "metadata": {},
     "output_type": "display_data"
    }
   ],
   "source": [
    "agreement_df.plot.bar(rot=0)"
   ]
  },
  {
   "cell_type": "markdown",
   "metadata": {},
   "source": [
    "## Conclusion"
   ]
  },
  {
   "cell_type": "markdown",
   "metadata": {},
   "source": [
    "To summarize our analysis:\n",
    "- For cases where experts have high agreement rate, the crowd also agrees more with the correct label.\n",
    "- As the number of qualified reads increases, the accuracy of the label given by the crowd increases.\n",
    "- For cases with more than 5 qualified reads, the crowd are more likely to agree with expert majority than individual expert does.\n",
    "- The crowd opinion is highly unified regardless of how unified the experts are on cases."
   ]
  }
 ],
 "metadata": {
  "kernelspec": {
   "display_name": "Python 3.10.7 64-bit (microsoft store)",
   "language": "python",
   "name": "python3"
  },
  "language_info": {
   "codemirror_mode": {
    "name": "ipython",
    "version": 3
   },
   "file_extension": ".py",
   "mimetype": "text/x-python",
   "name": "python",
   "nbconvert_exporter": "python",
   "pygments_lexer": "ipython3",
   "version": "3.10.8"
  },
  "orig_nbformat": 4,
  "vscode": {
   "interpreter": {
    "hash": "c5038320e2c403f05b08e16129d64a7c27a35a79ea6e4807f3ca30ee12c4b1b2"
   }
  }
 },
 "nbformat": 4,
 "nbformat_minor": 2
}
