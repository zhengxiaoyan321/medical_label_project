{
 "cells": [
  {
   "cell_type": "markdown",
   "metadata": {},
   "source": [
    "# Medical Label Project"
   ]
  },
  {
   "cell_type": "markdown",
   "metadata": {},
   "source": [
    "## Setting up"
   ]
  },
  {
   "cell_type": "markdown",
   "metadata": {},
   "source": [
    "Import necessary packages and adjust settings."
   ]
  },
  {
   "cell_type": "code",
   "execution_count": 1,
   "metadata": {},
   "outputs": [],
   "source": [
    "import pandas as pd\n",
    "import numpy as np\n",
    "import matplotlib.pyplot as plt\n",
    "pd.set_option('display.max_columns', None)\n",
    "pd.set_option('max_colwidth', None)\n",
    "pd.options.mode.chained_assignment = None  # default='warn'"
   ]
  },
  {
   "cell_type": "markdown",
   "metadata": {},
   "source": [
    "Read data from csv files."
   ]
  },
  {
   "cell_type": "code",
   "execution_count": 2,
   "metadata": {},
   "outputs": [],
   "source": [
    "reads = pd.read_csv('data/1345_admin_reads.csv')\n",
    "results = pd.read_csv('data/1345_customer_results.csv')"
   ]
  },
  {
   "cell_type": "markdown",
   "metadata": {},
   "source": [
    "Throw out all rows which do not end with voteN for N=0-8 in the origin column of the results dataframe. \\\n",
    "N is the number of experts who voted 'yes'."
   ]
  },
  {
   "cell_type": "code",
   "execution_count": 3,
   "metadata": {},
   "outputs": [],
   "source": [
    "valid_vote = results[\"Origin\"].str.fullmatch(r'(.*)vote[0-8](.*)', case=False)\n",
    "valid_results = results.loc[valid_vote]"
   ]
  },
  {
   "cell_type": "markdown",
   "metadata": {},
   "source": [
    "Create a new row called \"Votes\" to store the number of votes extracted from the \"Origin\"."
   ]
  },
  {
   "cell_type": "code",
   "execution_count": 4,
   "metadata": {},
   "outputs": [],
   "source": [
    "valid_results[\"Votes\"] = valid_results[\"Origin\"].str.extract(r'vote(\\d)').astype(int)"
   ]
  },
  {
   "cell_type": "markdown",
   "metadata": {},
   "source": [
    "## Remarks on \"Correct Label\""
   ]
  },
  {
   "cell_type": "markdown",
   "metadata": {},
   "source": [
    "By interpreting number of votes<4 as having a correct label of 'no', number of votes>4 as having a correct label of 'yes', and having no correct label otherwise, this column completely agrees with the \"Correct Label\" column."
   ]
  },
  {
   "cell_type": "code",
   "execution_count": 5,
   "metadata": {},
   "outputs": [
    {
     "name": "stdout",
     "output_type": "stream",
     "text": [
      "Correct Labels corresponding to < 4 votes: [\"'no'\"]\n",
      "Correct Labels corresponding to > 4 votes: [\"'yes'\"]\n",
      "Correct Labels corresponding to = 4 votes: [nan]\n"
     ]
    }
   ],
   "source": [
    "print(\"Correct Labels corresponding to < 4 votes:\", valid_results.loc[valid_results[\"Votes\"]<4,\"Correct Label\"].unique())\n",
    "print(\"Correct Labels corresponding to > 4 votes:\", valid_results.loc[valid_results[\"Votes\"]>4,\"Correct Label\"].unique())\n",
    "print(\"Correct Labels corresponding to = 4 votes:\", valid_results.loc[valid_results[\"Votes\"]==4,\"Correct Label\"].unique())"
   ]
  },
  {
   "cell_type": "markdown",
   "metadata": {},
   "source": [
    "We also note that out of the 27000 results, 12000 of them have a correct label of 'no', 12000 of them have a correct label of 'yes', and 3000 of them have no correct label."
   ]
  },
  {
   "cell_type": "code",
   "execution_count": 6,
   "metadata": {},
   "outputs": [
    {
     "name": "stdout",
     "output_type": "stream",
     "text": [
      "'no'     12000\n",
      "'yes'    12000\n",
      "NaN       3000\n",
      "Name: Correct Label, dtype: int64\n"
     ]
    }
   ],
   "source": [
    "print(valid_results[\"Correct Label\"].value_counts(dropna=False))"
   ]
  },
  {
   "cell_type": "markdown",
   "metadata": {},
   "source": [
    "## Remark on \"Majority Label\""
   ]
  },
  {
   "cell_type": "markdown",
   "metadata": {},
   "source": [
    "Out of the 27000 results, 14547 of them have a majority label of 'no', 12211 of them have a majority label of 'yes', and 242 of them have no majority label."
   ]
  },
  {
   "cell_type": "code",
   "execution_count": 7,
   "metadata": {},
   "outputs": [
    {
     "name": "stdout",
     "output_type": "stream",
     "text": [
      "'yes'    14547\n",
      "'no'     12211\n",
      "NaN        242\n",
      "Name: Majority Label, dtype: int64\n"
     ]
    }
   ],
   "source": [
    "print(valid_results[\"Majority Label\"].value_counts(dropna=False))"
   ]
  },
  {
   "cell_type": "markdown",
   "metadata": {},
   "source": [
    "The reason that 242 of them have no majority labels is that all of them have no qualified reads."
   ]
  },
  {
   "cell_type": "code",
   "execution_count": 8,
   "metadata": {},
   "outputs": [
    {
     "name": "stdout",
     "output_type": "stream",
     "text": [
      "0    242\n",
      "Name: Qualified Reads, dtype: int64\n"
     ]
    }
   ],
   "source": [
    "print(valid_results.loc[valid_results[\"Majority Label\"].isna(),\"Qualified Reads\"].value_counts())"
   ]
  },
  {
   "cell_type": "markdown",
   "metadata": {},
   "source": []
  },
  {
   "cell_type": "code",
   "execution_count": 9,
   "metadata": {},
   "outputs": [
    {
     "name": "stdout",
     "output_type": "stream",
     "text": [
      "'no'     764\n",
      "'yes'    744\n",
      "Name: Majority Label, dtype: int64\n",
      "'yes'    1508\n",
      "Name: First Choice Answer, dtype: int64\n"
     ]
    }
   ],
   "source": [
    "# print(valid_results.loc[valid_results[\"Majority Label\"]==\"'yes'\",\"First Choice Answer\"].value_counts(dropna=False))\n",
    "# print(valid_results.loc[valid_results[\"Majority Label\"]==\"'no'\",\"First Choice Answer\"].value_counts(dropna=False))\n",
    "print(valid_results.loc[(valid_results[\"First Choice Votes\"]==valid_results[\"Second Choice Votes\"])&(valid_results[\"Qualified Reads\"]!=0),\"Majority Label\"].value_counts(dropna=False))\n",
    "print(valid_results.loc[(valid_results[\"First Choice Votes\"]==valid_results[\"Second Choice Votes\"])&(valid_results[\"Qualified Reads\"]!=0),\"First Choice Answer\"].value_counts(dropna=False))"
   ]
  }
 ],
 "metadata": {
  "kernelspec": {
   "display_name": "Python 3.10.7 64-bit (microsoft store)",
   "language": "python",
   "name": "python3"
  },
  "language_info": {
   "codemirror_mode": {
    "name": "ipython",
    "version": 3
   },
   "file_extension": ".py",
   "mimetype": "text/x-python",
   "name": "python",
   "nbconvert_exporter": "python",
   "pygments_lexer": "ipython3",
   "version": "3.10.7"
  },
  "orig_nbformat": 4,
  "vscode": {
   "interpreter": {
    "hash": "c5038320e2c403f05b08e16129d64a7c27a35a79ea6e4807f3ca30ee12c4b1b2"
   }
  }
 },
 "nbformat": 4,
 "nbformat_minor": 2
}
