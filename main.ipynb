{
 "cells": [
  {
   "cell_type": "markdown",
   "metadata": {},
   "source": [
    "# Medical Label Project"
   ]
  },
  {
   "cell_type": "markdown",
   "metadata": {},
   "source": [
    "## Setting up"
   ]
  },
  {
   "cell_type": "markdown",
   "metadata": {},
   "source": [
    "Import necessary packages and adjust settings."
   ]
  },
  {
   "cell_type": "code",
   "execution_count": 1,
   "metadata": {},
   "outputs": [],
   "source": [
    "import pandas as pd\n",
    "import numpy as np\n",
    "import matplotlib.pyplot as plt\n",
    "pd.set_option('display.max_columns', None)\n",
    "pd.set_option('max_colwidth', None)\n",
    "pd.options.mode.chained_assignment = None  # default='warn'"
   ]
  },
  {
   "cell_type": "markdown",
   "metadata": {},
   "source": [
    "Read data from csv files."
   ]
  },
  {
   "cell_type": "code",
   "execution_count": 2,
   "metadata": {},
   "outputs": [],
   "source": [
    "reads = pd.read_csv('data/1345_admin_reads.csv')\n",
    "results = pd.read_csv('data/1345_customer_results.csv')"
   ]
  },
  {
   "cell_type": "markdown",
   "metadata": {},
   "source": [
    "Throw out all rows which do not end with voteN for N=0-8 in the \"Origin\" column of the results dataframe, and extract N from the column for the remaining data.\\\n",
    "N is the number of experts who voted 'yes'."
   ]
  },
  {
   "cell_type": "code",
   "execution_count": 3,
   "metadata": {},
   "outputs": [],
   "source": [
    "valid_vote = results[\"Origin\"].str.fullmatch(r'(.*)vote[0-8](.*)', case=False)\n",
    "valid_results = results.loc[valid_vote]\n",
    "votes = valid_results[\"Origin\"].str.extract(r'vote(\\d)').astype(int)"
   ]
  },
  {
   "cell_type": "markdown",
   "metadata": {},
   "source": [
    "Throw out unnecessary columns. Create a new row called \"Votes\" to store the number of votes extracted from the \"Origin\"."
   ]
  },
  {
   "cell_type": "code",
   "execution_count": 4,
   "metadata": {},
   "outputs": [],
   "source": [
    "valid_results = valid_results.loc[:,\"Qualified Reads\":\"Second Choice Weight\"]\n",
    "valid_results[\"Votes\"] = votes"
   ]
  },
  {
   "cell_type": "markdown",
   "metadata": {},
   "source": [
    "## Remarks on \"Correct Label\""
   ]
  },
  {
   "cell_type": "markdown",
   "metadata": {},
   "source": [
    "By interpreting number of votes<4 as having a correct label of 'no', number of votes>4 as having a correct label of 'yes', and having no correct label otherwise, this column completely agrees with the \"Correct Label\" column."
   ]
  },
  {
   "cell_type": "code",
   "execution_count": 5,
   "metadata": {},
   "outputs": [
    {
     "name": "stdout",
     "output_type": "stream",
     "text": [
      "Correct Labels corresponding to < 4 votes: [\"'no'\"]\n",
      "Correct Labels corresponding to > 4 votes: [\"'yes'\"]\n",
      "Correct Labels corresponding to = 4 votes: [nan]\n"
     ]
    }
   ],
   "source": [
    "print(\"Correct Labels corresponding to < 4 votes:\", valid_results.loc[valid_results[\"Votes\"]<4,\"Correct Label\"].unique())\n",
    "print(\"Correct Labels corresponding to > 4 votes:\", valid_results.loc[valid_results[\"Votes\"]>4,\"Correct Label\"].unique())\n",
    "print(\"Correct Labels corresponding to = 4 votes:\", valid_results.loc[valid_results[\"Votes\"]==4,\"Correct Label\"].unique())"
   ]
  },
  {
   "cell_type": "markdown",
   "metadata": {},
   "source": [
    "We also note that out of the 27000 results, 12000 of them have a correct label of 'no', 12000 of them have a correct label of 'yes', and 3000 of them have no correct label."
   ]
  },
  {
   "cell_type": "code",
   "execution_count": 6,
   "metadata": {},
   "outputs": [
    {
     "name": "stdout",
     "output_type": "stream",
     "text": [
      "'no'     12000\n",
      "'yes'    12000\n",
      "NaN       3000\n",
      "Name: Correct Label, dtype: int64\n"
     ]
    }
   ],
   "source": [
    "print(valid_results[\"Correct Label\"].value_counts(dropna=False))"
   ]
  },
  {
   "cell_type": "markdown",
   "metadata": {},
   "source": [
    "## Remark on \"Majority Label\""
   ]
  },
  {
   "cell_type": "markdown",
   "metadata": {},
   "source": [
    "Out of the 27000 results, 14547 of them have a majority label of 'no', 12211 of them have a majority label of 'yes', and 242 of them have no majority label."
   ]
  },
  {
   "cell_type": "code",
   "execution_count": 7,
   "metadata": {},
   "outputs": [
    {
     "name": "stdout",
     "output_type": "stream",
     "text": [
      "'yes'    14547\n",
      "'no'     12211\n",
      "NaN        242\n",
      "Name: Majority Label, dtype: int64\n"
     ]
    }
   ],
   "source": [
    "print(valid_results[\"Majority Label\"].value_counts(dropna=False))"
   ]
  },
  {
   "cell_type": "markdown",
   "metadata": {},
   "source": [
    "The reason that 242 of them have no majority labels is that all of them have no qualified reads."
   ]
  },
  {
   "cell_type": "code",
   "execution_count": 8,
   "metadata": {},
   "outputs": [
    {
     "name": "stdout",
     "output_type": "stream",
     "text": [
      "0    242\n",
      "Name: Qualified Reads, dtype: int64\n"
     ]
    }
   ],
   "source": [
    "print(valid_results.loc[valid_results[\"Majority Label\"].isna(),\"Qualified Reads\"].value_counts())"
   ]
  },
  {
   "cell_type": "markdown",
   "metadata": {},
   "source": [
    "Of the results with at least one qualified reads, 1580 of them have an equal number of yes/no votes. In these cases, the majority label is determined by the sum of accuracy score of qualified reads for each choice answer."
   ]
  },
  {
   "cell_type": "code",
   "execution_count": 9,
   "metadata": {},
   "outputs": [
    {
     "name": "stdout",
     "output_type": "stream",
     "text": [
      "'no'     764\n",
      "'yes'    744\n",
      "Name: Majority Label, dtype: int64\n"
     ]
    }
   ],
   "source": [
    "print(valid_results.loc[(valid_results[\"First Choice Votes\"]==valid_results[\"Second Choice Votes\"])&(valid_results[\"Qualified Reads\"]!=0),\"Majority Label\"].value_counts(dropna=False))\n",
    "# print(valid_results.loc[(valid_results[\"First Choice Votes\"]==valid_results[\"Second Choice Votes\"])&(valid_results[\"Qualified Reads\"]!=0),\"First Choice Answer\"].value_counts(dropna=False))"
   ]
  },
  {
   "cell_type": "markdown",
   "metadata": {},
   "source": [
    "## Analysis"
   ]
  },
  {
   "cell_type": "markdown",
   "metadata": {},
   "source": [
    "We first count the number of expert who agrees with expert majority and the total number of expert votes.\\\n",
    "The since each result have 8 expert votes, the total number is simply calculated by 8 times the number of results.\\\n",
    "The problem is that as we've seen earlier, some results have no expert majority because equal number of experts voted on yes vs no, so we need to decide whether to include these results. I'd like to argue that since there have to be a correct label (though we don't know which), we can say that 50% of the experts got the correct answer in these cases, so the result can be included.\\\n",
    "Then the number is calculated by summing over the number of votes on the majority label."
   ]
  },
  {
   "cell_type": "code",
   "execution_count": 10,
   "metadata": {},
   "outputs": [],
   "source": [
    "num_expert_agree = (np.max((valid_results[\"Votes\"],8-valid_results[\"Votes\"]),axis=0)).sum()\n",
    "total_expert_votes = len(valid_results.index) * 8"
   ]
  },
  {
   "cell_type": "markdown",
   "metadata": {},
   "source": [
    "Then we do the same for the crowd votes.\\\n",
    "Note that there are some cases where the first choice answer is not the same as majority label since there were an equal number of first choice answers and second choice answers, but we can safely use the number of votes on the first choice answer in our calculation of votes that agreed with the correct label since the votes on the two answers are the same."
   ]
  },
  {
   "cell_type": "code",
   "execution_count": 11,
   "metadata": {},
   "outputs": [],
   "source": [
    "total_crowd_votes = (valid_results[\"Qualified Reads\"]).sum()"
   ]
  },
  {
   "cell_type": "code",
   "execution_count": 12,
   "metadata": {},
   "outputs": [
    {
     "data": {
      "text/html": [
       "<div>\n",
       "<style scoped>\n",
       "    .dataframe tbody tr th:only-of-type {\n",
       "        vertical-align: middle;\n",
       "    }\n",
       "\n",
       "    .dataframe tbody tr th {\n",
       "        vertical-align: top;\n",
       "    }\n",
       "\n",
       "    .dataframe thead th {\n",
       "        text-align: right;\n",
       "    }\n",
       "</style>\n",
       "<table border=\"1\" class=\"dataframe\">\n",
       "  <thead>\n",
       "    <tr style=\"text-align: right;\">\n",
       "      <th></th>\n",
       "      <th>Qualified Reads</th>\n",
       "      <th>Correct Label</th>\n",
       "      <th>Majority Label</th>\n",
       "      <th>Difficulty</th>\n",
       "      <th>Agreement</th>\n",
       "      <th>First Choice Answer</th>\n",
       "      <th>First Choice Votes</th>\n",
       "      <th>First Choice Weight</th>\n",
       "      <th>Second Choice Answer</th>\n",
       "      <th>Second Choice Votes</th>\n",
       "      <th>Second Choice Weight</th>\n",
       "      <th>Votes</th>\n",
       "    </tr>\n",
       "  </thead>\n",
       "  <tbody>\n",
       "    <tr>\n",
       "      <th>0</th>\n",
       "      <td>2</td>\n",
       "      <td>'no'</td>\n",
       "      <td>'no'</td>\n",
       "      <td>0.000</td>\n",
       "      <td>1.000</td>\n",
       "      <td>'no'</td>\n",
       "      <td>2</td>\n",
       "      <td>1.54</td>\n",
       "      <td>'yes'</td>\n",
       "      <td>0</td>\n",
       "      <td>0.00</td>\n",
       "      <td>2</td>\n",
       "    </tr>\n",
       "    <tr>\n",
       "      <th>1</th>\n",
       "      <td>3</td>\n",
       "      <td>'no'</td>\n",
       "      <td>'no'</td>\n",
       "      <td>0.000</td>\n",
       "      <td>1.000</td>\n",
       "      <td>'no'</td>\n",
       "      <td>3</td>\n",
       "      <td>2.34</td>\n",
       "      <td>'yes'</td>\n",
       "      <td>0</td>\n",
       "      <td>0.00</td>\n",
       "      <td>0</td>\n",
       "    </tr>\n",
       "    <tr>\n",
       "      <th>2</th>\n",
       "      <td>2</td>\n",
       "      <td>'no'</td>\n",
       "      <td>'no'</td>\n",
       "      <td>0.000</td>\n",
       "      <td>1.000</td>\n",
       "      <td>'no'</td>\n",
       "      <td>2</td>\n",
       "      <td>1.70</td>\n",
       "      <td>'yes'</td>\n",
       "      <td>0</td>\n",
       "      <td>0.00</td>\n",
       "      <td>0</td>\n",
       "    </tr>\n",
       "    <tr>\n",
       "      <th>3</th>\n",
       "      <td>1</td>\n",
       "      <td>'no'</td>\n",
       "      <td>'no'</td>\n",
       "      <td>0.000</td>\n",
       "      <td>1.000</td>\n",
       "      <td>'no'</td>\n",
       "      <td>1</td>\n",
       "      <td>0.82</td>\n",
       "      <td>'yes'</td>\n",
       "      <td>0</td>\n",
       "      <td>0.00</td>\n",
       "      <td>0</td>\n",
       "    </tr>\n",
       "    <tr>\n",
       "      <th>4</th>\n",
       "      <td>7</td>\n",
       "      <td>NaN</td>\n",
       "      <td>'yes'</td>\n",
       "      <td>NaN</td>\n",
       "      <td>0.571</td>\n",
       "      <td>'yes'</td>\n",
       "      <td>4</td>\n",
       "      <td>3.28</td>\n",
       "      <td>'no'</td>\n",
       "      <td>3</td>\n",
       "      <td>2.32</td>\n",
       "      <td>4</td>\n",
       "    </tr>\n",
       "    <tr>\n",
       "      <th>...</th>\n",
       "      <td>...</td>\n",
       "      <td>...</td>\n",
       "      <td>...</td>\n",
       "      <td>...</td>\n",
       "      <td>...</td>\n",
       "      <td>...</td>\n",
       "      <td>...</td>\n",
       "      <td>...</td>\n",
       "      <td>...</td>\n",
       "      <td>...</td>\n",
       "      <td>...</td>\n",
       "      <td>...</td>\n",
       "    </tr>\n",
       "    <tr>\n",
       "      <th>30288</th>\n",
       "      <td>2</td>\n",
       "      <td>'no'</td>\n",
       "      <td>'yes'</td>\n",
       "      <td>1.000</td>\n",
       "      <td>1.000</td>\n",
       "      <td>'yes'</td>\n",
       "      <td>2</td>\n",
       "      <td>1.56</td>\n",
       "      <td>'no'</td>\n",
       "      <td>0</td>\n",
       "      <td>0.00</td>\n",
       "      <td>2</td>\n",
       "    </tr>\n",
       "    <tr>\n",
       "      <th>30289</th>\n",
       "      <td>3</td>\n",
       "      <td>'no'</td>\n",
       "      <td>'yes'</td>\n",
       "      <td>0.667</td>\n",
       "      <td>0.667</td>\n",
       "      <td>'yes'</td>\n",
       "      <td>2</td>\n",
       "      <td>1.56</td>\n",
       "      <td>'no'</td>\n",
       "      <td>1</td>\n",
       "      <td>0.76</td>\n",
       "      <td>3</td>\n",
       "    </tr>\n",
       "    <tr>\n",
       "      <th>30290</th>\n",
       "      <td>6</td>\n",
       "      <td>NaN</td>\n",
       "      <td>'yes'</td>\n",
       "      <td>NaN</td>\n",
       "      <td>1.000</td>\n",
       "      <td>'yes'</td>\n",
       "      <td>6</td>\n",
       "      <td>4.78</td>\n",
       "      <td>'no'</td>\n",
       "      <td>0</td>\n",
       "      <td>0.00</td>\n",
       "      <td>4</td>\n",
       "    </tr>\n",
       "    <tr>\n",
       "      <th>30291</th>\n",
       "      <td>0</td>\n",
       "      <td>'yes'</td>\n",
       "      <td>NaN</td>\n",
       "      <td>NaN</td>\n",
       "      <td>NaN</td>\n",
       "      <td>'yes'</td>\n",
       "      <td>0</td>\n",
       "      <td>0.00</td>\n",
       "      <td>'no'</td>\n",
       "      <td>0</td>\n",
       "      <td>0.00</td>\n",
       "      <td>5</td>\n",
       "    </tr>\n",
       "    <tr>\n",
       "      <th>30292</th>\n",
       "      <td>5</td>\n",
       "      <td>'yes'</td>\n",
       "      <td>'yes'</td>\n",
       "      <td>0.200</td>\n",
       "      <td>0.800</td>\n",
       "      <td>'yes'</td>\n",
       "      <td>4</td>\n",
       "      <td>3.20</td>\n",
       "      <td>'no'</td>\n",
       "      <td>1</td>\n",
       "      <td>0.76</td>\n",
       "      <td>5</td>\n",
       "    </tr>\n",
       "  </tbody>\n",
       "</table>\n",
       "<p>27000 rows × 12 columns</p>\n",
       "</div>"
      ],
      "text/plain": [
       "       Qualified Reads Correct Label Majority Label  Difficulty  Agreement  \\\n",
       "0                    2          'no'           'no'       0.000      1.000   \n",
       "1                    3          'no'           'no'       0.000      1.000   \n",
       "2                    2          'no'           'no'       0.000      1.000   \n",
       "3                    1          'no'           'no'       0.000      1.000   \n",
       "4                    7           NaN          'yes'         NaN      0.571   \n",
       "...                ...           ...            ...         ...        ...   \n",
       "30288                2          'no'          'yes'       1.000      1.000   \n",
       "30289                3          'no'          'yes'       0.667      0.667   \n",
       "30290                6           NaN          'yes'         NaN      1.000   \n",
       "30291                0         'yes'            NaN         NaN        NaN   \n",
       "30292                5         'yes'          'yes'       0.200      0.800   \n",
       "\n",
       "      First Choice Answer  First Choice Votes  First Choice Weight  \\\n",
       "0                    'no'                   2                 1.54   \n",
       "1                    'no'                   3                 2.34   \n",
       "2                    'no'                   2                 1.70   \n",
       "3                    'no'                   1                 0.82   \n",
       "4                   'yes'                   4                 3.28   \n",
       "...                   ...                 ...                  ...   \n",
       "30288               'yes'                   2                 1.56   \n",
       "30289               'yes'                   2                 1.56   \n",
       "30290               'yes'                   6                 4.78   \n",
       "30291               'yes'                   0                 0.00   \n",
       "30292               'yes'                   4                 3.20   \n",
       "\n",
       "      Second Choice Answer  Second Choice Votes  Second Choice Weight  Votes  \n",
       "0                    'yes'                    0                  0.00      2  \n",
       "1                    'yes'                    0                  0.00      0  \n",
       "2                    'yes'                    0                  0.00      0  \n",
       "3                    'yes'                    0                  0.00      0  \n",
       "4                     'no'                    3                  2.32      4  \n",
       "...                    ...                  ...                   ...    ...  \n",
       "30288                 'no'                    0                  0.00      2  \n",
       "30289                 'no'                    1                  0.76      3  \n",
       "30290                 'no'                    0                  0.00      4  \n",
       "30291                 'no'                    0                  0.00      5  \n",
       "30292                 'no'                    1                  0.76      5  \n",
       "\n",
       "[27000 rows x 12 columns]"
      ]
     },
     "execution_count": 12,
     "metadata": {},
     "output_type": "execute_result"
    }
   ],
   "source": [
    "valid_results"
   ]
  }
 ],
 "metadata": {
  "kernelspec": {
   "display_name": "Python 3.10.7 64-bit (microsoft store)",
   "language": "python",
   "name": "python3"
  },
  "language_info": {
   "codemirror_mode": {
    "name": "ipython",
    "version": 3
   },
   "file_extension": ".py",
   "mimetype": "text/x-python",
   "name": "python",
   "nbconvert_exporter": "python",
   "pygments_lexer": "ipython3",
   "version": "3.10.7"
  },
  "orig_nbformat": 4,
  "vscode": {
   "interpreter": {
    "hash": "c5038320e2c403f05b08e16129d64a7c27a35a79ea6e4807f3ca30ee12c4b1b2"
   }
  }
 },
 "nbformat": 4,
 "nbformat_minor": 2
}
